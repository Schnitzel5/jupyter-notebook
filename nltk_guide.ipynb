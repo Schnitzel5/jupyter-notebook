{
 "cells": [
  {
   "cell_type": "markdown",
   "source": [
    "# NLTK Library"
   ],
   "metadata": {
    "collapsed": false
   },
   "id": "5f8a1cfd9d5312ad"
  },
  {
   "cell_type": "code",
   "execution_count": 1,
   "outputs": [
    {
     "name": "stdout",
     "output_type": "stream",
     "text": [
      "Words in text2: 7\n",
      "Distinct Words in text2: 7\n"
     ]
    }
   ],
   "source": [
    "import nltk\n",
    "\n",
    "text2 = \"Sense and Sensibility by Jane Austen 1811\"\n",
    "words = len(nltk.word_tokenize(text2))\n",
    "print(f\"Words in text2: {words}\")\n",
    "\n",
    "text2 = \"Sense and Sensibility by Jane Austen 1811 Austen\"\n",
    "words = len(set(nltk.word_tokenize(text2)))\n",
    "print(f\"Distinct Words in text2: {words}\")\n",
    "\n"
   ],
   "metadata": {
    "collapsed": false,
    "ExecuteTime": {
     "end_time": "2023-11-27T12:09:56.906455756Z",
     "start_time": "2023-11-27T12:09:56.060102994Z"
    }
   },
   "id": "e4a5de04cd8d8ee8"
  }
 ],
 "metadata": {
  "kernelspec": {
   "display_name": "Python 3",
   "language": "python",
   "name": "python3"
  },
  "language_info": {
   "codemirror_mode": {
    "name": "ipython",
    "version": 2
   },
   "file_extension": ".py",
   "mimetype": "text/x-python",
   "name": "python",
   "nbconvert_exporter": "python",
   "pygments_lexer": "ipython2",
   "version": "2.7.6"
  }
 },
 "nbformat": 4,
 "nbformat_minor": 5
}
