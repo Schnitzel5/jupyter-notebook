{
 "cells": [
  {
   "cell_type": "markdown",
   "id": "62a5cccb-6cb7-482a-b2ab-364e22b7a668",
   "metadata": {},
   "source": [
    "# Intro"
   ]
  },
  {
   "cell_type": "code",
   "execution_count": 5,
   "id": "db043c9c-87c6-4537-b696-28f2ffd3b699",
   "metadata": {},
   "outputs": [
    {
     "name": "stdout",
     "output_type": "stream",
     "text": [
      "Hello 2\n"
     ]
    }
   ],
   "source": [
    "a = 2\n",
    "print('Hello ' + str(a))"
   ]
  },
  {
   "cell_type": "code",
   "execution_count": 10,
   "id": "0d2632de-93e2-45eb-a564-5d53462dc722",
   "metadata": {},
   "outputs": [
    {
     "name": "stdout",
     "output_type": "stream",
     "text": [
      "Number 0\n",
      "Number 1\n",
      "Number 2\n",
      "Number 3\n",
      "Number 4\n",
      "Number 5\n",
      "Number 6\n",
      "Number 7\n",
      "Number 8\n",
      "Number 9\n"
     ]
    }
   ],
   "source": [
    "for i in range(0, 10):\n",
    "    print(f\"Number {i}\")"
   ]
  },
  {
   "cell_type": "code",
   "execution_count": 5,
   "id": "bbe91daf-5527-49e8-bf03-4e991bb21033",
   "metadata": {
    "ExecuteTime": {
     "end_time": "2023-10-15T17:08:09.957390400Z",
     "start_time": "2023-10-15T17:08:09.915311Z"
    }
   },
   "outputs": [
    {
     "ename": "ModuleNotFoundError",
     "evalue": "No module named 'nltk'",
     "output_type": "error",
     "traceback": [
      "\u001B[1;31m---------------------------------------------------------------------------\u001B[0m",
      "\u001B[1;31mModuleNotFoundError\u001B[0m                       Traceback (most recent call last)",
      "Cell \u001B[1;32mIn[5], line 1\u001B[0m\n\u001B[1;32m----> 1\u001B[0m \u001B[38;5;28;01mimport\u001B[39;00m \u001B[38;5;21;01mnltk\u001B[39;00m\n\u001B[0;32m      2\u001B[0m nltk\u001B[38;5;241m.\u001B[39mdownload(\u001B[38;5;124m'\u001B[39m\u001B[38;5;124mpopular\u001B[39m\u001B[38;5;124m'\u001B[39m)\n\u001B[0;32m      3\u001B[0m nltk\u001B[38;5;241m.\u001B[39mdownload(\u001B[38;5;124m'\u001B[39m\u001B[38;5;124mnps_chat\u001B[39m\u001B[38;5;124m'\u001B[39m)\n",
      "\u001B[1;31mModuleNotFoundError\u001B[0m: No module named 'nltk'"
     ]
    }
   ],
   "source": [
    "import nltk\n",
    "# nltk.download('popular')\n",
    "# nltk.download('nps_chat')\n",
    "# nltk.download('webtext')"
   ]
  },
  {
   "cell_type": "code",
   "execution_count": 4,
   "id": "d198c7b5-6cdf-47f8-a585-d56cb216ffee",
   "metadata": {},
   "outputs": [
    {
     "name": "stdout",
     "output_type": "stream",
     "text": [
      "['Just', 'a', 'sentence', '.']\n"
     ]
    }
   ],
   "source": [
    "import nltk\n",
    "text = \"\"\"\n",
    "Just a sentence.\n",
    "\"\"\"\n",
    "tokens = nltk.word_tokenize(text)\n",
    "print(tokens)"
   ]
  }
 ],
 "metadata": {
  "kernelspec": {
   "display_name": "Python 3 (ipykernel)",
   "language": "python",
   "name": "python3"
  },
  "language_info": {
   "codemirror_mode": {
    "name": "ipython",
    "version": 3
   },
   "file_extension": ".py",
   "mimetype": "text/x-python",
   "name": "python",
   "nbconvert_exporter": "python",
   "pygments_lexer": "ipython3",
   "version": "3.10.12"
  }
 },
 "nbformat": 4,
 "nbformat_minor": 5
}
