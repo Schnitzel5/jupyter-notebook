{
 "cells": [
  {
   "cell_type": "markdown",
   "id": "7789cedf-64e0-459c-8795-1e9c716a196d",
   "metadata": {
    "tags": []
   },
   "source": [
    "# Pandas"
   ]
  },
  {
   "cell_type": "markdown",
   "id": "b91904fe-eded-4c9e-9645-6b999c21826e",
   "metadata": {},
   "source": [
    "## What kind of data does pandas handle?"
   ]
  },
  {
   "cell_type": "markdown",
   "id": "f272d54f-7fd2-406a-9b0a-2fb1d3b5ea38",
   "metadata": {},
   "source": [
    "- ### Series\n",
    "A Series is a one-dimensional array-like object containing a sequence of values (of similar types to NumPy types) and an associated array of data labels, called its index.\n",
    "- ### Data frame\n",
    "Rectangular data (like a spreadsheet) is the basic data structure for statistical and machine learning models."
   ]
  },
  {
   "cell_type": "code",
   "execution_count": 3,
   "id": "51e7a7d6-422d-4e0d-b6fd-7d3924a02e45",
   "metadata": {
    "tags": []
   },
   "outputs": [],
   "source": [
    "import pandas as pd"
   ]
  },
  {
   "cell_type": "code",
   "execution_count": 9,
   "id": "dc847e42-ffb7-48a9-bf62-bbfabe7450f9",
   "metadata": {
    "tags": []
   },
   "outputs": [
    {
     "name": "stdout",
     "output_type": "stream",
     "text": [
      "0    41\n",
      "1    77\n",
      "2     5\n",
      "3    94\n",
      "Name: Age, dtype: int64\n",
      "0    41\n",
      "1    77\n",
      "Name: Age, dtype: int64\n"
     ]
    }
   ],
   "source": [
    "age= pd.Series([41, 77, 5, 94], name = \"Age\")\n",
    "print(age)\n",
    "print(age[0:2])"
   ]
  },
  {
   "cell_type": "code",
   "execution_count": 15,
   "id": "d9430f2c-1416-40fe-9753-2c1a59432a31",
   "metadata": {
    "tags": []
   },
   "outputs": [
    {
     "name": "stdout",
     "output_type": "stream",
     "text": [
      "           name  age sex\n",
      "0  Lionel Messi   36   m\n",
      "1  Manuel Neuer   37   m\n",
      "2   David Alaba   31   m\n"
     ]
    },
    {
     "data": {
      "text/html": [
       "<div>\n",
       "<style scoped>\n",
       "    .dataframe tbody tr th:only-of-type {\n",
       "        vertical-align: middle;\n",
       "    }\n",
       "\n",
       "    .dataframe tbody tr th {\n",
       "        vertical-align: top;\n",
       "    }\n",
       "\n",
       "    .dataframe thead th {\n",
       "        text-align: right;\n",
       "    }\n",
       "</style>\n",
       "<table border=\"1\" class=\"dataframe\">\n",
       "  <thead>\n",
       "    <tr style=\"text-align: right;\">\n",
       "      <th></th>\n",
       "      <th>name</th>\n",
       "      <th>age</th>\n",
       "      <th>sex</th>\n",
       "    </tr>\n",
       "  </thead>\n",
       "  <tbody>\n",
       "    <tr>\n",
       "      <th>0</th>\n",
       "      <td>Lionel Messi</td>\n",
       "      <td>36</td>\n",
       "      <td>m</td>\n",
       "    </tr>\n",
       "    <tr>\n",
       "      <th>1</th>\n",
       "      <td>Manuel Neuer</td>\n",
       "      <td>37</td>\n",
       "      <td>m</td>\n",
       "    </tr>\n",
       "    <tr>\n",
       "      <th>2</th>\n",
       "      <td>David Alaba</td>\n",
       "      <td>31</td>\n",
       "      <td>m</td>\n",
       "    </tr>\n",
       "  </tbody>\n",
       "</table>\n",
       "</div>"
      ],
      "text/plain": [
       "           name  age sex\n",
       "0  Lionel Messi   36   m\n",
       "1  Manuel Neuer   37   m\n",
       "2   David Alaba   31   m"
      ]
     },
     "execution_count": 15,
     "metadata": {},
     "output_type": "execute_result"
    }
   ],
   "source": [
    "df = pd.DataFrame(\n",
    "    {\n",
    "        \"name\": [ \n",
    "            \"Lionel Messi\",\n",
    "            \"Manuel Neuer\",\n",
    "            \"David Alaba\"      \n",
    "        ], \n",
    "        \"age\": [36,37,31],\n",
    "        \"sex\": [\"m\",\"m\",\"m\"]\n",
    "    } );\n",
    "        \n",
    "print(df)\n",
    "df"
   ]
  },
  {
   "cell_type": "markdown",
   "id": "aaf43e1f-6aa3-4327-926e-c7be28f55bc9",
   "metadata": {},
   "source": [
    "## Creating Data frames from Lists and Series"
   ]
  },
  {
   "cell_type": "code",
   "execution_count": 198,
   "id": "2e8c4dd8-c51f-40a4-84a2-80045b130744",
   "metadata": {
    "tags": []
   },
   "outputs": [
    {
     "name": "stdout",
     "output_type": "stream",
     "text": [
      "     Author  Article\n",
      "0    Goedel      210\n",
      "1    Turing      211\n",
      "2  McCarthy      114\n",
      "3    Minsky      178\n"
     ]
    },
    {
     "data": {
      "text/plain": [
       "pandas.core.frame.DataFrame"
      ]
     },
     "execution_count": 198,
     "metadata": {},
     "output_type": "execute_result"
    }
   ],
   "source": [
    "# Creating two lists\n",
    "author = ['Goedel', 'Turing', 'McCarthy', 'Minsky']\n",
    "article = [210, 211, 114, 178]\n",
    " \n",
    "# Creating two Series by passing lists\n",
    "auth_series = pd.Series(author)\n",
    "article_series = pd.Series(article)\n",
    " \n",
    "# Creating a dictionary by passing Series objects as values\n",
    "frame = {'Author': auth_series,\n",
    "         'Article': article_series}\n",
    " \n",
    "# Creating DataFrame by passing Dictionary\n",
    "result = pd.DataFrame(frame)\n",
    " \n",
    "# Printing elements of Dataframe\n",
    "print(result)\n",
    "type(result)"
   ]
  },
  {
   "attachments": {
    "3220bda8-911f-4810-ba4e-47fb586eaeef.png": {
     "image/png": "[encoded data removed]"
    }
   },
   "cell_type": "markdown",
   "id": "019b8efb-09c5-42ca-9a1c-91d8450871fb",
   "metadata": {},
   "source": [
    "# Import Data\n",
    "![grafik.png](attachment:3220bda8-911f-4810-ba4e-47fb586eaeef.png)"
   ]
  },
  {
   "cell_type": "code",
   "execution_count": 17,
   "id": "8d49a61c-88f0-4d71-b6d4-8b2dbe4be4aa",
   "metadata": {
    "tags": []
   },
   "outputs": [],
   "source": [
    "df_bodyfat = pd.read_csv(\"c:/home/DSAI/datasets/bodyfat.csv\");"
   ]
  },
  {
   "cell_type": "markdown",
   "id": "3f985922-48c7-4488-9e17-53b3ca4a30c0",
   "metadata": {},
   "source": [
    "## General Infos about Dataframe"
   ]
  },
  {
   "cell_type": "code",
   "execution_count": 61,
   "id": "4def570e-0a65-44f1-a4c0-1d31ac62e6f7",
   "metadata": {
    "tags": []
   },
   "outputs": [
    {
     "name": "stdout",
     "output_type": "stream",
     "text": [
      "(252, 15)\n",
      "<class 'pandas.core.frame.DataFrame'>\n",
      "RangeIndex: 252 entries, 0 to 251\n",
      "Data columns (total 15 columns):\n",
      " #   Column   Non-Null Count  Dtype  \n",
      "---  ------   --------------  -----  \n",
      " 0   Density  252 non-null    float64\n",
      " 1   BodyFat  252 non-null    float64\n",
      " 2   Age      252 non-null    int64  \n",
      " 3   Weight   252 non-null    float64\n",
      " 4   Height   252 non-null    float64\n",
      " 5   Neck     252 non-null    float64\n",
      " 6   Chest    252 non-null    float64\n",
      " 7   Abdomen  252 non-null    float64\n",
      " 8   Hip      252 non-null    float64\n",
      " 9   Thigh    252 non-null    float64\n",
      " 10  Knee     252 non-null    float64\n",
      " 11  Ankle    252 non-null    float64\n",
      " 12  Biceps   252 non-null    float64\n",
      " 13  Forearm  252 non-null    float64\n",
      " 14  Wrist    252 non-null    float64\n",
      "dtypes: float64(14), int64(1)\n",
      "memory usage: 29.7 KB\n",
      "None\n",
      "Density    252\n",
      "BodyFat    252\n",
      "Age        252\n",
      "Weight     252\n",
      "Height     252\n",
      "Neck       252\n",
      "Chest      252\n",
      "Abdomen    252\n",
      "Hip        252\n",
      "Thigh      252\n",
      "Knee       252\n",
      "Ankle      252\n",
      "Biceps     252\n",
      "Forearm    252\n",
      "Wrist      252\n",
      "dtype: int64\n"
     ]
    }
   ],
   "source": [
    "df_bodyfat.head(10)\n",
    "df_bodyfat.tail(4)\n",
    "print(df_bodyfat.shape)\n",
    "print(df_bodyfat.info())\n",
    "print(df_bodyfat.count())"
   ]
  },
  {
   "cell_type": "markdown",
   "id": "9b6a5b3a-3187-4781-8da6-47b605000096",
   "metadata": {},
   "source": [
    "## Subset Selection"
   ]
  },
  {
   "cell_type": "code",
   "execution_count": 62,
   "id": "c14e84b3-8dcf-46d5-9e12-a72b7f97a79e",
   "metadata": {
    "tags": []
   },
   "outputs": [
    {
     "data": {
      "text/plain": [
       "0      True\n",
       "1      True\n",
       "2      True\n",
       "3      True\n",
       "4      True\n",
       "       ... \n",
       "247    True\n",
       "248    True\n",
       "249    True\n",
       "250    True\n",
       "251    True\n",
       "Name: Age, Length: 252, dtype: bool"
      ]
     },
     "execution_count": 62,
     "metadata": {},
     "output_type": "execute_result"
    }
   ],
   "source": [
    "bfage = df_bodyfat[\"Age\"]\n",
    "type(bfage)\n",
    "df_aw = df_bodyfat[[\"Age\",\"Weight\"]]\n",
    "\n",
    "df_bodyfat[df_bodyfat[\"Age\"] > 80]\n",
    "df_bodyfat[\"Age\"] <40\n",
    "\n",
    "df_bodyfat[(df_bodyfat[\"Age\"] > 70) & (df_bodyfat[\"Weight\"] > 200)]\n",
    "\n",
    "df_bodyfat[df_bodyfat[\"Age\"].notna()]  # are there any Na Values in a row? -> NO \n",
    "df_bodyfat[\"Age\"].notna()\n"
   ]
  },
  {
   "cell_type": "code",
   "execution_count": 73,
   "id": "1f65be8d-99c8-4f38-a945-0e4b1ba8f3a4",
   "metadata": {},
   "outputs": [
    {
     "name": "stdout",
     "output_type": "stream",
     "text": [
      "    Age  Weight  Height\n",
      "9    23  198.25   73.50\n",
      "10   26  186.25   74.50\n",
      "11   27  216.00   76.00\n",
      "12   32  180.50   69.50\n",
      "13   30  205.25   71.25\n",
      "14   35  187.75   69.50\n",
      "15   35  162.75   66.00\n",
      "16   34  195.75   71.00\n",
      "17   32  209.25   71.00\n",
      "18   28  183.75   67.75\n",
      "19   33  211.75   73.50\n",
      "20   28  179.00   68.00\n",
      "21   28  200.50   69.75\n",
      "22   31  140.25   68.25\n",
      "23   32  148.75   70.00\n",
      "24   28  151.25   67.75\n"
     ]
    }
   ],
   "source": [
    "weightOld= df_bodyfat.loc[df_bodyfat[\"Age\"] > 60, \"Weight\"]\n",
    "type(weightOld)\n",
    "# print(weightOld)\n",
    "print(df_bodyfat.iloc[9:25, 2:5])\n",
    "#df_bodyfat.iloc[9, 2] = 24  # New Value\n",
    "df_bodyfat.iloc[9, 2] = 23 "
   ]
  },
  {
   "cell_type": "markdown",
   "id": "ae3d37d9-a5d6-4e58-91fe-6381e3faf9d0",
   "metadata": {},
   "source": [
    "## Reshaping Data Frames"
   ]
  },
  {
   "cell_type": "markdown",
   "id": "14ad3761-7ac1-42a1-9094-3c8a8670ad1c",
   "metadata": {
    "tags": []
   },
   "source": [
    "### Sorting"
   ]
  },
  {
   "cell_type": "code",
   "execution_count": 96,
   "id": "1afae408-eb00-47a0-8b21-dfbcf96b44e7",
   "metadata": {
    "tags": []
   },
   "outputs": [
    {
     "data": {
      "text/plain": [
       "'BodyFat'"
      ]
     },
     "execution_count": 96,
     "metadata": {},
     "output_type": "execute_result"
    }
   ],
   "source": [
    "df_bodyfat.sort_values(by = \"Age\")\n",
    "df_bodyfat.sort_values(by = [\"Age\",\"Weight\"], ascending=False).head(10)\n",
    "df_bodyfat.nlargest(5,\"BodyFat\")\n",
    "\n",
    "att1 = []\n",
    "for col in df_bodyfat:   # print the attributes\n",
    " att1.append(col)"
   ]
  },
  {
   "cell_type": "code",
   "execution_count": 115,
   "id": "9938e649-87bf-4e17-9cad-16f520d2d4f0",
   "metadata": {
    "tags": []
   },
   "outputs": [
    {
     "data": {
      "text/html": [
       "<div>\n",
       "<style scoped>\n",
       "    .dataframe tbody tr th:only-of-type {\n",
       "        vertical-align: middle;\n",
       "    }\n",
       "\n",
       "    .dataframe tbody tr th {\n",
       "        vertical-align: top;\n",
       "    }\n",
       "\n",
       "    .dataframe thead th {\n",
       "        text-align: right;\n",
       "    }\n",
       "</style>\n",
       "<table border=\"1\" class=\"dataframe\">\n",
       "  <thead>\n",
       "    <tr style=\"text-align: right;\">\n",
       "      <th></th>\n",
       "      <th>PassengerId</th>\n",
       "      <th>Survived</th>\n",
       "      <th>Pclass</th>\n",
       "      <th>Age</th>\n",
       "      <th>SibSp</th>\n",
       "      <th>Parch</th>\n",
       "      <th>Fare</th>\n",
       "    </tr>\n",
       "    <tr>\n",
       "      <th>Sex</th>\n",
       "      <th></th>\n",
       "      <th></th>\n",
       "      <th></th>\n",
       "      <th></th>\n",
       "      <th></th>\n",
       "      <th></th>\n",
       "      <th></th>\n",
       "    </tr>\n",
       "  </thead>\n",
       "  <tbody>\n",
       "    <tr>\n",
       "      <th>female</th>\n",
       "      <td>431.028662</td>\n",
       "      <td>0.742038</td>\n",
       "      <td>2.159236</td>\n",
       "      <td>27.915709</td>\n",
       "      <td>0.694268</td>\n",
       "      <td>0.649682</td>\n",
       "      <td>44.479818</td>\n",
       "    </tr>\n",
       "    <tr>\n",
       "      <th>male</th>\n",
       "      <td>454.147314</td>\n",
       "      <td>0.188908</td>\n",
       "      <td>2.389948</td>\n",
       "      <td>30.726645</td>\n",
       "      <td>0.429809</td>\n",
       "      <td>0.235702</td>\n",
       "      <td>25.523893</td>\n",
       "    </tr>\n",
       "  </tbody>\n",
       "</table>\n",
       "</div>"
      ],
      "text/plain": [
       "        PassengerId  Survived    Pclass        Age     SibSp     Parch  \\\n",
       "Sex                                                                      \n",
       "female   431.028662  0.742038  2.159236  27.915709  0.694268  0.649682   \n",
       "male     454.147314  0.188908  2.389948  30.726645  0.429809  0.235702   \n",
       "\n",
       "             Fare  \n",
       "Sex                \n",
       "female  44.479818  \n",
       "male    25.523893  "
      ]
     },
     "execution_count": 115,
     "metadata": {},
     "output_type": "execute_result"
    }
   ],
   "source": [
    "titanic = pd.read_csv(\"c:/home/titanic.csv\")\n",
    "titanic.head()\n",
    "titanic.groupby([\"Sex\"]).sum(\"Survived\")\n",
    "titanic.groupby([\"Sex\"]).mean(\"Age\")\n",
    "#titanic.groupby([\"Sex\"]).mean(\"Age\")[\"Age\"]\n"
   ]
  },
  {
   "cell_type": "code",
   "execution_count": 138,
   "id": "f8b0cef1-5119-4b71-886d-4fd8fe84f959",
   "metadata": {
    "tags": []
   },
   "outputs": [
    {
     "name": "stdout",
     "output_type": "stream",
     "text": [
      "           city country                   date.utc            location  \\\n",
      "1825      Paris      FR  2019-06-21 00:00:00+00:00             FR04014   \n",
      "1826      Paris      FR  2019-06-20 23:00:00+00:00             FR04014   \n",
      "1827      Paris      FR  2019-06-20 22:00:00+00:00             FR04014   \n",
      "1828      Paris      FR  2019-06-20 21:00:00+00:00             FR04014   \n",
      "1829      Paris      FR  2019-06-20 20:00:00+00:00             FR04014   \n",
      "3501  Antwerpen      BE  2019-06-17 08:00:00+00:00             BETR801   \n",
      "3502  Antwerpen      BE  2019-06-17 07:00:00+00:00             BETR801   \n",
      "3503  Antwerpen      BE  2019-06-17 06:00:00+00:00             BETR801   \n",
      "3504  Antwerpen      BE  2019-06-17 05:00:00+00:00             BETR801   \n",
      "3505  Antwerpen      BE  2019-06-17 04:00:00+00:00             BETR801   \n",
      "3664     London      GB  2019-06-17 11:00:00+00:00  London Westminster   \n",
      "3665     London      GB  2019-06-17 10:00:00+00:00  London Westminster   \n",
      "3666     London      GB  2019-06-17 09:00:00+00:00  London Westminster   \n",
      "3667     London      GB  2019-06-17 08:00:00+00:00  London Westminster   \n",
      "3668     London      GB  2019-06-17 07:00:00+00:00  London Westminster   \n",
      "\n",
      "     parameter  value   unit  \n",
      "1825       no2   20.0  µg/m³  \n",
      "1826       no2   21.8  µg/m³  \n",
      "1827       no2   26.5  µg/m³  \n",
      "1828       no2   24.9  µg/m³  \n",
      "1829       no2   21.4  µg/m³  \n",
      "3501       no2   41.0  µg/m³  \n",
      "3502       no2   45.0  µg/m³  \n",
      "3503       no2   43.5  µg/m³  \n",
      "3504       no2   42.5  µg/m³  \n",
      "3505       no2   39.5  µg/m³  \n",
      "3664       no2   11.0  µg/m³  \n",
      "3665       no2   11.0  µg/m³  \n",
      "3666       no2   11.0  µg/m³  \n",
      "3667       no2   13.0  µg/m³  \n",
      "3668       no2   13.0  µg/m³  \n",
      "location  BETR801  FR04014  London Westminster\n",
      "1825          NaN     20.0                 NaN\n",
      "1826          NaN     21.8                 NaN\n",
      "1827          NaN     26.5                 NaN\n",
      "1828          NaN     24.9                 NaN\n",
      "1829          NaN     21.4                 NaN\n",
      "...           ...      ...                 ...\n",
      "5267          NaN      NaN                41.0\n",
      "5268          NaN      NaN                41.0\n",
      "5269          NaN      NaN                41.0\n",
      "5270          NaN      NaN                67.0\n",
      "5271          NaN      NaN                67.0\n",
      "\n",
      "[3447 rows x 3 columns]\n"
     ]
    },
    {
     "data": {
      "text/plain": [
       "<Axes: >"
      ]
     },
     "execution_count": 138,
     "metadata": {},
     "output_type": "execute_result"
    },
    {
     "data": {
      "image/png": "[encoded data removed]",
      "text/plain": [
       "<Figure size 640x480 with 1 Axes>"
      ]
     },
     "metadata": {},
     "output_type": "display_data"
    }
   ],
   "source": [
    "air_quality = pd.read_csv(\"c:/home/air_quality_long.csv\")\n",
    "no2 = air_quality[air_quality[\"parameter\"] == \"no2\"]   # rename parameter to no2 \n",
    "# print(no2.head(10))\n",
    "no2group = no2.sort_index().groupby([\"city\"]).head(5) #sorted by index, group by city , 1st 5 entries\n",
    "print(no2group)\n",
    "\n",
    "print(no2.pivot(columns=\"location\", values=\"value\"))\n",
    "no2.pivot(columns=\"location\", values=\"value\").plot()\n"
   ]
  },
  {
   "cell_type": "markdown",
   "id": "e4d6f60f-c1b6-46d1-967e-7a989853eb2a",
   "metadata": {},
   "source": [
    "## Null Values ?"
   ]
  },
  {
   "cell_type": "code",
   "execution_count": 141,
   "id": "974ad1e9-827a-4541-8a89-8e6b477c8cc4",
   "metadata": {
    "tags": []
   },
   "outputs": [
    {
     "name": "stdout",
     "output_type": "stream",
     "text": [
      "     Density  BodyFat    Age  Weight  Height   Neck  Chest  Abdomen    Hip  \\\n",
      "0      False    False  False   False   False  False  False    False  False   \n",
      "1      False    False  False   False   False  False  False    False  False   \n",
      "2      False    False  False   False   False  False  False    False  False   \n",
      "3      False    False  False   False   False  False  False    False  False   \n",
      "4      False    False  False   False   False  False  False    False  False   \n",
      "..       ...      ...    ...     ...     ...    ...    ...      ...    ...   \n",
      "247    False    False  False   False   False  False  False    False  False   \n",
      "248    False    False  False   False   False  False  False    False  False   \n",
      "249    False    False  False   False   False  False  False    False  False   \n",
      "250    False    False  False   False   False  False  False    False  False   \n",
      "251    False    False  False   False   False  False  False    False  False   \n",
      "\n",
      "     Thigh   Knee  Ankle  Biceps  Forearm  Wrist  \n",
      "0    False  False  False   False    False  False  \n",
      "1    False  False  False   False    False  False  \n",
      "2    False  False  False   False    False  False  \n",
      "3    False  False  False   False    False  False  \n",
      "4    False  False  False   False    False  False  \n",
      "..     ...    ...    ...     ...      ...    ...  \n",
      "247  False  False  False   False    False  False  \n",
      "248  False  False  False   False    False  False  \n",
      "249  False  False  False   False    False  False  \n",
      "250  False  False  False   False    False  False  \n",
      "251  False  False  False   False    False  False  \n",
      "\n",
      "[252 rows x 15 columns]\n",
      "Density    0\n",
      "BodyFat    0\n",
      "Age        0\n",
      "Weight     0\n",
      "Height     0\n",
      "Neck       0\n",
      "Chest      0\n",
      "Abdomen    0\n",
      "Hip        0\n",
      "Thigh      0\n",
      "Knee       0\n",
      "Ankle      0\n",
      "Biceps     0\n",
      "Forearm    0\n",
      "Wrist      0\n",
      "dtype: int64\n",
      "0\n"
     ]
    }
   ],
   "source": [
    "df_bodyfat.isna()\n",
    "df_bodyfat.isna().any()\n",
    "print(df_bodyfat.isnull())\n",
    "print(df_bodyfat.isnull().sum()) # Null values in rows\n",
    "print(df_bodyfat.isnull().sum().sum()) # Sum of all null values"
   ]
  },
  {
   "cell_type": "markdown",
   "id": "06b01138-0cb5-4408-b821-010865127f43",
   "metadata": {},
   "source": [
    "## Filling missing values using fillna(), replace() and interpolate()"
   ]
  },
  {
   "cell_type": "code",
   "execution_count": 145,
   "id": "03885c11-784e-4e94-b14a-30a71f650121",
   "metadata": {
    "tags": []
   },
   "outputs": [
    {
     "data": {
      "text/html": [
       "<div>\n",
       "<style scoped>\n",
       "    .dataframe tbody tr th:only-of-type {\n",
       "        vertical-align: middle;\n",
       "    }\n",
       "\n",
       "    .dataframe tbody tr th {\n",
       "        vertical-align: top;\n",
       "    }\n",
       "\n",
       "    .dataframe thead th {\n",
       "        text-align: right;\n",
       "    }\n",
       "</style>\n",
       "<table border=\"1\" class=\"dataframe\">\n",
       "  <thead>\n",
       "    <tr style=\"text-align: right;\">\n",
       "      <th></th>\n",
       "      <th>First Score</th>\n",
       "      <th>Second Score</th>\n",
       "      <th>Third Score</th>\n",
       "    </tr>\n",
       "  </thead>\n",
       "  <tbody>\n",
       "    <tr>\n",
       "      <th>0</th>\n",
       "      <td>100.0</td>\n",
       "      <td>30.0</td>\n",
       "      <td>NaN</td>\n",
       "    </tr>\n",
       "    <tr>\n",
       "      <th>1</th>\n",
       "      <td>90.0</td>\n",
       "      <td>45.0</td>\n",
       "      <td>40.0</td>\n",
       "    </tr>\n",
       "    <tr>\n",
       "      <th>2</th>\n",
       "      <td>NaN</td>\n",
       "      <td>56.0</td>\n",
       "      <td>80.0</td>\n",
       "    </tr>\n",
       "    <tr>\n",
       "      <th>3</th>\n",
       "      <td>95.0</td>\n",
       "      <td>NaN</td>\n",
       "      <td>98.0</td>\n",
       "    </tr>\n",
       "  </tbody>\n",
       "</table>\n",
       "</div>"
      ],
      "text/plain": [
       "   First Score  Second Score  Third Score\n",
       "0        100.0          30.0          NaN\n",
       "1         90.0          45.0         40.0\n",
       "2          NaN          56.0         80.0\n",
       "3         95.0           NaN         98.0"
      ]
     },
     "execution_count": 145,
     "metadata": {},
     "output_type": "execute_result"
    }
   ],
   "source": [
    "import numpy as np;\n",
    "dict = {'First Score':[100, 90, np.nan, 95],\n",
    "        'Second Score': [30, 45, 56, np.nan],\n",
    "        'Third Score':[np.nan, 40, 80, 98]}\n",
    "df_test = pd.DataFrame(dict)\n",
    "df_test"
   ]
  },
  {
   "cell_type": "code",
   "execution_count": 194,
   "id": "12d1e607-2d71-45e0-a8cc-03b3e86448f8",
   "metadata": {
    "tags": []
   },
   "outputs": [
    {
     "name": "stdout",
     "output_type": "stream",
     "text": [
      "43.666666666666664\n",
      "43.666666666666664\n",
      "32.75\n"
     ]
    },
    {
     "data": {
      "text/html": [
       "<div>\n",
       "<style scoped>\n",
       "    .dataframe tbody tr th:only-of-type {\n",
       "        vertical-align: middle;\n",
       "    }\n",
       "\n",
       "    .dataframe tbody tr th {\n",
       "        vertical-align: top;\n",
       "    }\n",
       "\n",
       "    .dataframe thead th {\n",
       "        text-align: right;\n",
       "    }\n",
       "</style>\n",
       "<table border=\"1\" class=\"dataframe\">\n",
       "  <thead>\n",
       "    <tr style=\"text-align: right;\">\n",
       "      <th></th>\n",
       "      <th>First Score</th>\n",
       "      <th>Second Score</th>\n",
       "      <th>Third Score</th>\n",
       "    </tr>\n",
       "  </thead>\n",
       "  <tbody>\n",
       "    <tr>\n",
       "      <th>0</th>\n",
       "      <td>100.0</td>\n",
       "      <td>30.0</td>\n",
       "      <td>NaN</td>\n",
       "    </tr>\n",
       "    <tr>\n",
       "      <th>1</th>\n",
       "      <td>90.0</td>\n",
       "      <td>45.0</td>\n",
       "      <td>40.0</td>\n",
       "    </tr>\n",
       "    <tr>\n",
       "      <th>2</th>\n",
       "      <td>NaN</td>\n",
       "      <td>56.0</td>\n",
       "      <td>80.0</td>\n",
       "    </tr>\n",
       "    <tr>\n",
       "      <th>3</th>\n",
       "      <td>95.0</td>\n",
       "      <td>NaN</td>\n",
       "      <td>98.0</td>\n",
       "    </tr>\n",
       "  </tbody>\n",
       "</table>\n",
       "</div>"
      ],
      "text/plain": [
       "   First Score  Second Score  Third Score\n",
       "0        100.0          30.0          NaN\n",
       "1         90.0          45.0         40.0\n",
       "2          NaN          56.0         80.0\n",
       "3         95.0           NaN         98.0"
      ]
     },
     "execution_count": 194,
     "metadata": {},
     "output_type": "execute_result"
    }
   ],
   "source": [
    "# filling missing value using fillna()  \n",
    "# Default Value 0 \n",
    "print(df_test[\"Second Score\"].mean())\n",
    "df_test.fillna(0)\n",
    "\n",
    "# What happens with statistical measures? \n",
    "print(df_test[\"Second Score\"].mean())\n",
    "print(df_test[\"Second Score\"].sum()/len(df_test))   # len or len -1 ? \n",
    "len(df_test)\n",
    "df_test.size    # all elements\n",
    "df_test.shape[0]   # number of rows \n",
    "\n",
    "# filling a missing value with\n",
    "# previous ones  \n",
    "df_test.fillna(method ='pad')\n",
    "\n",
    "# filling a missing value with\n",
    "# next ones \n",
    "df_test.fillna(method ='bfill')\n",
    "\n",
    "# will replace  Nan value in dataframe with value -99  \n",
    "df_test2 = df_test.replace(to_replace = np.nan, value = -9999) \n",
    "\n",
    "#print(\"New Mean: \", df_test2[\"Second Score\"].mean())\n",
    "#print(\"New Mean2: \", df_test[df_test2[\"Second Score\"] > 0].mean())\n",
    "\n",
    "# Dropping rows with at least 1 null value. \n",
    "df_test.dropna()\n",
    "\n",
    "# Dropping rows whose all data is missing or contain null values(NaN) \n",
    "df_test.dropna(how = 'all')"
   ]
  }
 ],
 "metadata": {
  "kernelspec": {
   "display_name": "Python 3 (ipykernel)",
   "language": "python",
   "name": "python3"
  },
  "language_info": {
   "codemirror_mode": {
    "name": "ipython",
    "version": 3
   },
   "file_extension": ".py",
   "mimetype": "text/x-python",
   "name": "python",
   "nbconvert_exporter": "python",
   "pygments_lexer": "ipython3",
   "version": "3.10.12"
  }
 },
 "nbformat": 4,
 "nbformat_minor": 5
}
