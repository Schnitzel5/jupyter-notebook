{
 "cells": [
  {
   "cell_type": "markdown",
   "source": [
    "# 4. Übungsblatt DSAI"
   ],
   "metadata": {
    "collapsed": false
   },
   "id": "f799daf928776791"
  },
  {
   "cell_type": "markdown",
   "source": [
    "## 1. The experiment shows that the average monthly electricity consumption for a house is 458 units. The study records a total of 3206 units of electricity consumption. Calculate the duration of the experiment. Also, identify the criteria to calculate the median consumption."
   ],
   "metadata": {
    "collapsed": false
   },
   "id": "185ebb62f6a4a50a"
  },
  {
   "cell_type": "code",
   "execution_count": 10,
   "outputs": [
    {
     "name": "stdout",
     "output_type": "stream",
     "text": [
      "7.0 months\n",
      "458 units\n",
      "Median = (n + 1) / 2\n"
     ]
    }
   ],
   "source": [
    "import statistics\n",
    "\n",
    "print(3206 / 458, 'months')\n",
    "\n",
    "print(statistics.median([458]), 'units')\n",
    "print('Median = (n + 1) / 2')"
   ],
   "metadata": {
    "collapsed": false,
    "ExecuteTime": {
     "end_time": "2023-11-20T21:08:39.836997100Z",
     "start_time": "2023-11-20T21:08:39.793451600Z"
    }
   },
   "id": "c23eeb3f7ab0bc14"
  },
  {
   "cell_type": "markdown",
   "source": [
    "## 2. Consider the wages (in dollars) of 15 workers:\n",
    "## wage = [247, 228, 352, 298, 345, 312, 300, 285, 246, 352, 297, 304, 265, 325, 276]\n",
    "## Find the wage above which 65% of wages would lie."
   ],
   "metadata": {
    "collapsed": false
   },
   "id": "ccedfce0f6913ca7"
  },
  {
   "cell_type": "code",
   "execution_count": 11,
   "outputs": [
    {
     "name": "stdout",
     "output_type": "stream",
     "text": [
      "65% of wages are above: 304.8 dollars\n"
     ]
    }
   ],
   "source": [
    "import numpy as np\n",
    "\n",
    "wage = [247, 228, 352, 298, 345, 312, 300, 285, 246, 352, 297, 304, 265, 325, 276]\n",
    "print('65% of wages are above:', np.percentile(wage, 65), 'dollars')"
   ],
   "metadata": {
    "collapsed": false,
    "ExecuteTime": {
     "end_time": "2023-11-20T21:10:08.489324500Z",
     "start_time": "2023-11-20T21:10:08.361840400Z"
    }
   },
   "id": "9dbbbe40711c7e4f"
  },
  {
   "cell_type": "markdown",
   "source": [
    "## 3. Jimmy requires 38 minutes on average, with a standard deviation of 5 minutes to distribute the newspapers. On the other hand, Richard requires 27 minutes on average, with a standard deviation of 6 minutes to distribute the newspapers. Identify most consistent distributor. Hint: Use the coefficient of variation (σ/µ)"
   ],
   "metadata": {
    "collapsed": false
   },
   "id": "3fe680d51ad20750"
  },
  {
   "cell_type": "code",
   "execution_count": null,
   "outputs": [],
   "source": [
    "import statistics\n",
    "\n",
    "jimmy_avg = 38\n",
    "jimmy_std = 5\n",
    "\n",
    "richard_avg = 27\n",
    "richard_std = 6\n",
    "\n",
    "statistics.covariance(__x=jimmy_avg, __y=jimmy_std)"
   ],
   "metadata": {
    "collapsed": false,
    "is_executing": true
   },
   "id": "94f7b4e3926b4f7f"
  },
  {
   "cell_type": "markdown",
   "source": [
    "## 4. Identify the extreme weights from the bodyfat dataset using the interquartile (IQR = IQ3 -IQ1) range."
   ],
   "metadata": {
    "collapsed": false
   },
   "id": "941c8e9916e2beaa"
  },
  {
   "cell_type": "code",
   "execution_count": 23,
   "outputs": [
    {
     "name": "stdout",
     "output_type": "stream",
     "text": [
      "Extreme Weights: \n",
      "     Density  BodyFat  Age  Weight  Height  Neck  Chest  Abdomen    Hip  Thigh  \\\n",
      "38   1.0202     35.2   46  363.15   72.25  51.2  136.2    148.1  147.7   87.3   \n",
      "40   1.0217     34.5   45  262.75   68.75  43.2  128.3    126.2  125.6   72.5   \n",
      "\n",
      "    Knee  Ankle  Biceps  Forearm  Wrist  \n",
      "38  49.1   29.6    45.0     29.0   21.4  \n",
      "40  39.6   26.6    36.4     32.7   21.4  \n"
     ]
    }
   ],
   "source": [
    "import pandas as pd\n",
    "import numpy as np\n",
    "\n",
    "df = pd.read_csv('datasets/bodyfat.csv')\n",
    "\n",
    "weights = df['Weight']\n",
    "\n",
    "Q1 = np.percentile(weights, 25)\n",
    "Q3 = np.percentile(weights, 75)\n",
    "IQR = Q3 - Q1\n",
    "\n",
    "lower_bound = Q1 - 1.5 * IQR\n",
    "upper_bound = Q3 + 1.5 * IQR\n",
    "\n",
    "outliers = (weights < lower_bound) | (weights > upper_bound)\n",
    "\n",
    "print('Extreme Weights: \\n', df[outliers])"
   ],
   "metadata": {
    "collapsed": false,
    "ExecuteTime": {
     "end_time": "2023-11-20T21:28:13.519608900Z",
     "start_time": "2023-11-20T21:28:13.455620200Z"
    }
   },
   "id": "115c6874507a1720"
  },
  {
   "cell_type": "markdown",
   "source": [
    "## 5. A car showroom in Ohio exhibits a total of 12 cars of different brands. Consider the prices (in dollars) for 12 cars as given below:\n",
    "## price = [14751, 16422, 15398, 9445, 12589, 11687, 10692, 8475, 11184, 9961, 12898, 11905]\n",
    "## Identify the type of skewness in the showroom prices of cars. (Pears2nd = 3(mean-median)/std)"
   ],
   "metadata": {
    "collapsed": false
   },
   "id": "e55d344e9bf546ee"
  },
  {
   "cell_type": "code",
   "execution_count": 32,
   "outputs": [
    {
     "name": "stdout",
     "output_type": "stream",
     "text": [
      "Pears2nd:  0.41329390884304773\n",
      "The showroom prices of the cars are  positively skewed .\n"
     ]
    }
   ],
   "source": [
    "import numpy as np\n",
    "\n",
    "price = [14751, 16422, 15398, 9445, 12589, 11687, 10692, 8475, 11184, 9961, 12898, 11905]\n",
    "\n",
    "mean_price = np.mean(price)\n",
    "median_price = np.median(price)\n",
    "std_price = np.std(price)\n",
    "\n",
    "pears2nd = 3*(mean_price-median_price)/std_price\n",
    "\n",
    "if pears2nd > 0:\n",
    "    skewness_type = \"positively skewed\"\n",
    "elif pears2nd < 0:\n",
    "    skewness_type = \"negatively skewed\"\n",
    "else:\n",
    "    skewness_type = \"symmetric\"\n",
    "    \n",
    "print(\"Pears2nd: \",pears2nd)\n",
    "print(\"The showroom prices of the cars are \",skewness_type,\".\")"
   ],
   "metadata": {
    "collapsed": false,
    "ExecuteTime": {
     "end_time": "2023-11-20T21:39:58.775640300Z",
     "start_time": "2023-11-20T21:39:58.710863500Z"
    }
   },
   "id": "bfc08ca78099b65"
  },
  {
   "cell_type": "markdown",
   "source": [
    "## 6. A company offers its customers to take a vehicle and an eduacational loan. A study shows that the probability that a customer takes a vehicle loan is 0.35, the probability that a customer takes an educational loan is 0.46 and the probability that a customer takes at least one of the loan is 0.59. Find the probability that a customer takes both vehicle and educational loans. (Use: P(A && B) = . . .)"
   ],
   "metadata": {
    "collapsed": false
   },
   "id": "39721328a0944b1c"
  },
  {
   "cell_type": "code",
   "execution_count": null,
   "outputs": [],
   "source": [],
   "metadata": {
    "collapsed": false
   },
   "id": "9b86db5f5d53eef6"
  },
  {
   "cell_type": "markdown",
   "source": [
    "## 7. The probabilities that a machine will produce 2, 5, 7, 9 defective batteries in a day are 0.3, 0.22, 0.15, 0.1 respectively. Find the expected number of defective batteries produced in a day"
   ],
   "metadata": {
    "collapsed": false
   },
   "id": "f73689530411a080"
  },
  {
   "cell_type": "code",
   "execution_count": 33,
   "outputs": [
    {
     "name": "stdout",
     "output_type": "stream",
     "text": [
      "The expected number of defective batteries produced in a day is: 3.65\n"
     ]
    }
   ],
   "source": [
    "defective_counts = [2, 5, 7, 9]\n",
    "probabilities = [0.3, 0.22, 0.15, 0.1]\n",
    "\n",
    "expected_value = sum(p*x for p, x in zip(probabilities, defective_counts))\n",
    "\n",
    "print(f\"The expected number of defective batteries produced in a day is: {expected_value}\")"
   ],
   "metadata": {
    "collapsed": false,
    "ExecuteTime": {
     "end_time": "2023-11-20T21:45:32.298200100Z",
     "start_time": "2023-11-20T21:45:32.254433300Z"
    }
   },
   "id": "ea5f3b53333a2c01"
  },
  {
   "cell_type": "markdown",
   "source": [
    "## 8. From the experience, it is seen that 4% of the tyres produced by the machine are defective. Out of the 10 tyres produced, find the probability that at most 3 are defective."
   ],
   "metadata": {
    "collapsed": false
   },
   "id": "2bb960793dca18e"
  },
  {
   "cell_type": "code",
   "execution_count": 52,
   "outputs": [
    {
     "name": "stdout",
     "output_type": "stream",
     "text": [
      "The probability that at most 3 out of 10 tires are defective is:  0.9937862840081287\n"
     ]
    }
   ],
   "source": [
    "from scipy.stats import binom\n",
    "\n",
    "p_defective = 0.04\n",
    "\n",
    "n_trials = 10\n",
    "\n",
    "probability = sum(binom.pmf(k, n_trials, p_defective) for k in range(3))\n",
    "print(\"The probability that at most 3 out of 10 tires are defective is: \", probability)"
   ],
   "metadata": {
    "collapsed": false,
    "ExecuteTime": {
     "end_time": "2023-11-20T22:01:12.546989200Z",
     "start_time": "2023-11-20T22:01:12.405385900Z"
    }
   },
   "id": "847f314d022f4b36"
  },
  {
   "cell_type": "markdown",
   "source": [
    "## 9. The number of trucks crossing a bridge during the day follow a Poisson distribution with mean 18. What is the probability that on a randomly selected day 12 trucks would have crossed the bridge? Consider an random variable that follows normal distribution with mean 5 and variance 10 obtain:\n",
    "## a : P(X < 1), b : P(X > 5), c : P(3 < X < 7)"
   ],
   "metadata": {
    "collapsed": false
   },
   "id": "9c9b95311cc6218e"
  },
  {
   "cell_type": "code",
   "execution_count": null,
   "outputs": [],
   "source": [],
   "metadata": {
    "collapsed": false
   },
   "id": "a85fa5c647bd91b2"
  },
  {
   "cell_type": "markdown",
   "source": [
    "## 10. Consider the data given below. Can we claim that the average number of fruits on a tree is 70?\n",
    "## number_fruits = [64, 56, 48, 56, 79, 67, 65, 86, 87, 53, 67, 89, 65, 42, 46]"
   ],
   "metadata": {
    "collapsed": false
   },
   "id": "9351935ca2646030"
  },
  {
   "cell_type": "code",
   "execution_count": 31,
   "outputs": [
    {
     "name": "stdout",
     "output_type": "stream",
     "text": [
      "no\n",
      "Average:  64.66666666666667\n"
     ]
    }
   ],
   "source": [
    "import numpy as np\n",
    "\n",
    "number_fruits = [64, 56, 48, 56, 79, 67, 65, 86, 87, 53, 67, 89, 65, 42, 46]\n",
    "\n",
    "avg = np.average(number_fruits)\n",
    "if avg == 70:\n",
    "    print(\"yes\")\n",
    "else:\n",
    "    print(\"no\")\n",
    "print(\"Average: \", avg)"
   ],
   "metadata": {
    "collapsed": false,
    "ExecuteTime": {
     "end_time": "2023-11-20T21:39:41.655894500Z",
     "start_time": "2023-11-20T21:39:41.612779600Z"
    }
   },
   "id": "ea79dd2b7f257888"
  },
  {
   "cell_type": "markdown",
   "source": [
    "## 11. Differences in TVnews Time between Clinton and Dole: Is there a hint, that there is a difference in TV news consumption between Clinton and Dole votes?"
   ],
   "metadata": {
    "collapsed": false
   },
   "id": "bdc00828f7b1d627"
  },
  {
   "cell_type": "code",
   "execution_count": null,
   "outputs": [],
   "source": [],
   "metadata": {
    "collapsed": false
   },
   "id": "5be24b0cdca7bb93"
  }
 ],
 "metadata": {
  "kernelspec": {
   "display_name": "Python 3",
   "language": "python",
   "name": "python3"
  },
  "language_info": {
   "codemirror_mode": {
    "name": "ipython",
    "version": 2
   },
   "file_extension": ".py",
   "mimetype": "text/x-python",
   "name": "python",
   "nbconvert_exporter": "python",
   "pygments_lexer": "ipython2",
   "version": "2.7.6"
  }
 },
 "nbformat": 4,
 "nbformat_minor": 5
}
