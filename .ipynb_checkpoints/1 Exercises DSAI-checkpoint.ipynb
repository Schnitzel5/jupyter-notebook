{
 "cells": [
  {
   "cell_type": "markdown",
   "id": "d4ba8e5f-a7df-4a79-8632-6fc48b519239",
   "metadata": {},
   "source": [
    "# 1. Übungsblatt DSAI"
   ]
  },
  {
   "cell_type": "markdown",
   "id": "225ea198-f410-4515-a57f-ba9c876272bb",
   "metadata": {},
   "source": [
    "## 1: Try using the Python interpreter as a calculator, and typing expressions like 12j / (4 + j)."
   ]
  },
  {
   "cell_type": "code",
   "execution_count": 102,
   "id": "b63f968b-e013-4c74-80cb-b0215768c196",
   "metadata": {},
   "outputs": [
    {
     "name": "stdout",
     "output_type": "stream",
     "text": [
      "Result: 6.0\n",
      "(0.7058823529411765+2.823529411764706j)\n",
      "2j\n"
     ]
    }
   ],
   "source": [
    "def calc(j):\n",
    "    return 12 * j / (4 + j)\n",
    "\n",
    "result = calc(4)\n",
    "print(f\"Result: {result}\")\n",
    "\n",
    "print(12j / (4 + 1j))\n",
    "print(1j + 1j)"
   ]
  },
  {
   "cell_type": "markdown",
   "id": "59c970b9-0152-450e-877f-51435171a7a2",
   "metadata": {},
   "source": [
    "## 2: Given a number x, determine whether the given number is *Armstrong* number or not. A positive integer of n digits is called an Armstrong number of order n (order is number of digits) if. \\[abcd... = pow(a,n) + pow(b,n) + pow(c,n) + pow(d,n)\\]"
   ]
  },
  {
   "cell_type": "code",
   "execution_count": 110,
   "id": "153f93cc-d9e8-4f0b-ada8-6c88e130b2f7",
   "metadata": {},
   "outputs": [
    {
     "name": "stdout",
     "output_type": "stream",
     "text": [
      "True\n",
      "False\n"
     ]
    }
   ],
   "source": [
    "def determine(num):\n",
    "    data = str(num)\n",
    "    n = len(data)\n",
    "    result = 0\n",
    "    for x in data:\n",
    "        result += pow(int(x), n)\n",
    "    return result == num\n",
    "\n",
    "print(determine(54748))\n",
    "print(determine(54747))"
   ]
  },
  {
   "cell_type": "markdown",
   "id": "b626102d-d0f2-42ec-91a4-2728b7ffbad1",
   "metadata": {},
   "source": [
    "## 3: Given an alphabet of 26 letters, there are 26 to the power 10, or 26 ** 10, ten-letter strings we can form. That works out to 141167095653376. How many hundred-letter strings are possible?"
   ]
  },
  {
   "cell_type": "code",
   "execution_count": 3,
   "id": "e3d9cdf7-7a6c-436e-bb30-7ee6567e7b61",
   "metadata": {},
   "outputs": [
    {
     "name": "stdout",
     "output_type": "stream",
     "text": [
      "3142930641582938830174357788501626427282669988762475256374173175398995908420104023465432599069702289330964075081611719197835869803511992549376\n"
     ]
    }
   ],
   "source": [
    "print(26**100)"
   ]
  },
  {
   "cell_type": "markdown",
   "id": "642ba878-d4eb-4a16-a319-81d91fd7a386",
   "metadata": {},
   "source": [
    "## 4: The Python multiplication operation can be applied to lists. What happens when you type ['Monty', 'Python'] * 20, or 3 * sent1?"
   ]
  },
  {
   "cell_type": "code",
   "execution_count": 7,
   "id": "d034117a-46cb-4086-8d87-5627ef00458f",
   "metadata": {},
   "outputs": [
    {
     "name": "stdout",
     "output_type": "stream",
     "text": [
      "['Monty', 'Python', 'Monty', 'Python', 'Monty', 'Python', 'Monty', 'Python', 'Monty', 'Python', 'Monty', 'Python', 'Monty', 'Python', 'Monty', 'Python', 'Monty', 'Python', 'Monty', 'Python', 'Monty', 'Python', 'Monty', 'Python', 'Monty', 'Python', 'Monty', 'Python', 'Monty', 'Python', 'Monty', 'Python', 'Monty', 'Python', 'Monty', 'Python', 'Monty', 'Python', 'Monty', 'Python']\n",
      "Test Test Test \n"
     ]
    }
   ],
   "source": [
    "print(['Monty', 'Python'] * 20)\n",
    "print('Test ' * 3)"
   ]
  },
  {
   "cell_type": "markdown",
   "id": "d72f4d3e-81c2-4948-adea-21f078196ef8",
   "metadata": {},
   "source": [
    "## 5: len(set(s1)) - set() filters duplicate items out and len() counts the amount of chars"
   ]
  },
  {
   "cell_type": "code",
   "execution_count": 5,
   "id": "4c0acdc4-c2ce-4423-9594-22ac81f86a74",
   "metadata": {},
   "outputs": [
    {
     "name": "stdout",
     "output_type": "stream",
     "text": [
      "{'T', 'e', 's', 't'}\n",
      "4\n"
     ]
    }
   ],
   "source": [
    "s1 = 'Testt'\n",
    "print(set(s1))\n",
    "print(len(set(s1)))"
   ]
  },
  {
   "cell_type": "markdown",
   "id": "2951f1e3-11bd-4f77-9236-97dfe6f6d879",
   "metadata": {},
   "source": [
    "## 6: Define a string and assign it to a variable, e.g., ```mystring = '...'```. Print the contents of this variable in two ways, first by simply typing the variable name and pressing enter, then by using the print statement."
   ]
  },
  {
   "cell_type": "code",
   "execution_count": 16,
   "id": "9e55d81a-73ec-420d-8480-e309afaba1e5",
   "metadata": {},
   "outputs": [
    {
     "data": {
      "text/plain": [
       "'Just a string.'"
      ]
     },
     "execution_count": 16,
     "metadata": {},
     "output_type": "execute_result"
    }
   ],
   "source": [
    "mystring = 'Just a string.'\n",
    "mystring"
   ]
  },
  {
   "cell_type": "code",
   "execution_count": 17,
   "id": "7882f786-6d37-45aa-801d-49215268a4d7",
   "metadata": {},
   "outputs": [
    {
     "name": "stdout",
     "output_type": "stream",
     "text": [
      "Just a string.\n"
     ]
    }
   ],
   "source": [
    "mystring = 'Just a string.'\n",
    "print(mystring)"
   ]
  },
  {
   "cell_type": "markdown",
   "id": "4b035eea-6f2b-497a-85d0-014e06b93c1b",
   "metadata": {},
   "source": [
    "## 7: Try adding the string to itself using ```mystring + mystring``` or multiplying it by a number, e.g., ```mystring * 3```. Notice that the strings are joined together without any spaces. How could you fix this?"
   ]
  },
  {
   "cell_type": "code",
   "execution_count": 29,
   "id": "d7664588-c0a1-4267-8768-b96c85adefcf",
   "metadata": {},
   "outputs": [
    {
     "name": "stdout",
     "output_type": "stream",
     "text": [
      "Just a string. Just a string.\n",
      "Just a string. Just a string.\n",
      "Just a string. Just a string. Just a string.\n"
     ]
    }
   ],
   "source": [
    "mystring = 'Just a string.'\n",
    "print(mystring, mystring)\n",
    "print(' '.join([mystring, mystring]))\n",
    "print(' '.join([mystring] * 3))"
   ]
  },
  {
   "cell_type": "markdown",
   "id": "2be24855-e6a8-48c1-b650-6398dc358f23",
   "metadata": {},
   "source": [
    "### 8: Defined a variable ```mysent``` to be a list of words, using the syntax ```mysent = [\"My\", \"sent\"]``` (but with your own words, or a favorite saying). Use ```' '.join(mysent)``` to convert this into a string. Use ```split()``` to split the string back into the list form you had to start with."
   ]
  },
  {
   "cell_type": "code",
   "execution_count": 31,
   "id": "afb5af2d-8458-430e-a463-3558c502d27b",
   "metadata": {},
   "outputs": [
    {
     "name": "stdout",
     "output_type": "stream",
     "text": [
      "Just some random message .\n",
      "['Just', 'some', 'random', 'message', '.']\n"
     ]
    }
   ],
   "source": [
    "mysent = [\"Just\", \"some\", \"random\", \"message\", \".\"]\n",
    "message = ' '.join(mysent)\n",
    "print(message)\n",
    "print(message.split(' '))"
   ]
  },
  {
   "cell_type": "markdown",
   "id": "a50a6216-1d95-4f72-bd17-120926730dff",
   "metadata": {},
   "source": [
    "### 9: Defined several variables containing lists of words, e.g., phrase1, phrase2, and so on. Join them together in various combinations (using the plus operator) to form whole sentences. What is the relationship between ```len(phrase1 + phrase2)``` and ```len(phrase1) + len(phrase2)```?"
   ]
  },
  {
   "cell_type": "code",
   "execution_count": 34,
   "id": "76f296cf-2019-4523-bfe6-b5b75a39bb78",
   "metadata": {},
   "outputs": [
    {
     "name": "stdout",
     "output_type": "stream",
     "text": [
      "['Just', 'some', 'random', 'message', '.', 'Message', 'received', '!']\n",
      "8\n",
      "8\n"
     ]
    }
   ],
   "source": [
    "phrase1 = [\"Just\", \"some\", \"random\", \"message\", \".\"]\n",
    "phrase2 = [\"Message\", \"received\", \"!\"]\n",
    "print(phrase1 + phrase2)\n",
    "print(len(phrase1 + phrase2))\n",
    "print(len(phrase1) + len(phrase2))"
   ]
  },
  {
   "cell_type": "markdown",
   "id": "b2ac4ba7-8bb4-4f19-b756-e1db7af16ff0",
   "metadata": {},
   "source": [
    "## 10: Consider the following two expressions, which have the same value. Which one will typically be more relevant in NLP? Why? ```\"Monty Python\"[6:12]``` or ```[\"Monty\", \"Python\"][1]```"
   ]
  },
  {
   "cell_type": "code",
   "execution_count": 35,
   "id": "bec64e83-a7d2-4dc1-84b8-c33719328e4e",
   "metadata": {},
   "outputs": [
    {
     "name": "stdout",
     "output_type": "stream",
     "text": [
      "Python\n",
      "Python\n"
     ]
    }
   ],
   "source": [
    "print(\"Monty Python\"[6:12])\n",
    "print([\"Monty\", \"Python\"][1])"
   ]
  },
  {
   "cell_type": "markdown",
   "id": "1864e109-0877-478a-aa16-a1742a37c8fe",
   "metadata": {},
   "source": [
    "## 11: Generate a list of 5 words and define a function which checks, if a certain word is in it. Try to use different ways like ```'in' - statement, using a loop, any(), count(), find(), Counter()```."
   ]
  },
  {
   "cell_type": "code",
   "execution_count": 82,
   "id": "3d6fd498-40d0-42e9-a1bc-b76d3d3ada27",
   "metadata": {},
   "outputs": [
    {
     "name": "stdout",
     "output_type": "stream",
     "text": [
      "Apple contains: True\n",
      "Avocado contains: False\n",
      "Apple contains: 1\n",
      "Avocado contains: 0\n"
     ]
    }
   ],
   "source": [
    "words = ['Apple', 'Banana', 'Mango', 'Strawberry', 'Pineapple']\n",
    "print(f\"Apple contains: {'Apple' in words}\")\n",
    "print(f\"Avocado contains: {'Avocado' in words}\")\n",
    "print(f\"Apple contains: {words.count('Apple')}\")\n",
    "print(f\"Avocado contains: {words.count('Avocado')}\")"
   ]
  },
  {
   "cell_type": "markdown",
   "id": "38eea3e6-2a1d-43cf-b0a1-1912c6f4134a",
   "metadata": {},
   "source": [
    "## 12: Import the ```math``` and ```random``` package and generate a list with random numbers. Write a function ```mymean``` to calculate the arithmetic mean."
   ]
  },
  {
   "cell_type": "code",
   "execution_count": 79,
   "id": "bfb7cf98-36a7-41f2-bca7-bc49a09cbd95",
   "metadata": {},
   "outputs": [
    {
     "name": "stdout",
     "output_type": "stream",
     "text": [
      "[54, 580, 674, 762, 3, 744, 654, 234, 647, 480, 403, 24, 249, 22, 672, 667, 126, 611, 358, 378, 308, 929, 641, 937, 488, 845, 142, 808, 14, 390]\n",
      "mean of list: 461.47\n"
     ]
    }
   ],
   "source": [
    "import math\n",
    "import random\n",
    "\n",
    "def mymean(nums):\n",
    "    return round(math.fsum(nums) / len(nums), 2)\n",
    "\n",
    "nums = []\n",
    "\n",
    "for i in range(0, random.randint(5, 50)):\n",
    "    nums.append(random.randint(0,999))\n",
    "\n",
    "print(nums)\n",
    "print(f\"mean of list: {mymean(nums)}\")"
   ]
  }
 ],
 "metadata": {
  "kernelspec": {
   "display_name": "Python 3 (ipykernel)",
   "language": "python",
   "name": "python3"
  },
  "language_info": {
   "codemirror_mode": {
    "name": "ipython",
    "version": 3
   },
   "file_extension": ".py",
   "mimetype": "text/x-python",
   "name": "python",
   "nbconvert_exporter": "python",
   "pygments_lexer": "ipython3",
   "version": "3.10.12"
  }
 },
 "nbformat": 4,
 "nbformat_minor": 5
}
