{
 "cells": [
  {
   "cell_type": "markdown",
   "id": "d868e42b-4343-4055-a78a-370f25d4c0d0",
   "metadata": {},
   "source": [
    "# 3. Übungsblatt DSAI"
   ]
  },
  {
   "cell_type": "markdown",
   "id": "625bf673-a008-4e2b-8bf1-18f6efe66d7f",
   "metadata": {},
   "source": [
    "## 1. Rename the educ column education."
   ]
  },
  {
   "cell_type": "code",
   "execution_count": 5,
   "id": "601c294c-e39b-48fe-a6b3-6e6a551ce804",
   "metadata": {
    "ExecuteTime": {
     "end_time": "2023-10-15T17:52:55.827577900Z",
     "start_time": "2023-10-15T17:52:55.770525100Z"
    }
   },
   "outputs": [
    {
     "data": {
      "text/plain": "     Unnamed: 0  popul  TVnews  selfLR  ClinLR  DoleLR  PID   age  education  \\\n0             0    0.0     7.0     7.0     1.0     6.0  6.0  36.0        3.0   \n1             1  190.0     1.0     3.0     3.0     5.0  1.0  20.0        4.0   \n2             2   31.0     7.0     2.0     2.0     6.0  1.0  24.0        6.0   \n3             3   83.0     4.0     3.0     4.0     5.0  1.0  28.0        6.0   \n4             4  640.0     7.0     5.0     6.0     4.0  0.0  68.0        6.0   \n..          ...    ...     ...     ...     ...     ...  ...   ...        ...   \n939         939    0.0     7.0     7.0     1.0     6.0  4.0  73.0        6.0   \n940         940    0.0     7.0     5.0     2.0     6.0  6.0  50.0        6.0   \n941         941    0.0     3.0     6.0     2.0     7.0  5.0  43.0        6.0   \n942         942    0.0     6.0     6.0     2.0     5.0  6.0  46.0        7.0   \n943         943   18.0     7.0     4.0     2.0     6.0  3.0  61.0        7.0   \n\n     income  vote  logpopul  \n0       1.0   1.0 -2.302585  \n1       1.0   0.0  5.247550  \n2       1.0   0.0  3.437208  \n3       1.0   0.0  4.420045  \n4       1.0   0.0  6.461624  \n..      ...   ...       ...  \n939    24.0   1.0 -2.302585  \n940    24.0   1.0 -2.302585  \n941    24.0   1.0 -2.302585  \n942    24.0   1.0 -2.302585  \n943    24.0   1.0  2.895912  \n\n[944 rows x 12 columns]",
      "text/html": "<div>\n<style scoped>\n    .dataframe tbody tr th:only-of-type {\n        vertical-align: middle;\n    }\n\n    .dataframe tbody tr th {\n        vertical-align: top;\n    }\n\n    .dataframe thead th {\n        text-align: right;\n    }\n</style>\n<table border=\"1\" class=\"dataframe\">\n  <thead>\n    <tr style=\"text-align: right;\">\n      <th></th>\n      <th>Unnamed: 0</th>\n      <th>popul</th>\n      <th>TVnews</th>\n      <th>selfLR</th>\n      <th>ClinLR</th>\n      <th>DoleLR</th>\n      <th>PID</th>\n      <th>age</th>\n      <th>education</th>\n      <th>income</th>\n      <th>vote</th>\n      <th>logpopul</th>\n    </tr>\n  </thead>\n  <tbody>\n    <tr>\n      <th>0</th>\n      <td>0</td>\n      <td>0.0</td>\n      <td>7.0</td>\n      <td>7.0</td>\n      <td>1.0</td>\n      <td>6.0</td>\n      <td>6.0</td>\n      <td>36.0</td>\n      <td>3.0</td>\n      <td>1.0</td>\n      <td>1.0</td>\n      <td>-2.302585</td>\n    </tr>\n    <tr>\n      <th>1</th>\n      <td>1</td>\n      <td>190.0</td>\n      <td>1.0</td>\n      <td>3.0</td>\n      <td>3.0</td>\n      <td>5.0</td>\n      <td>1.0</td>\n      <td>20.0</td>\n      <td>4.0</td>\n      <td>1.0</td>\n      <td>0.0</td>\n      <td>5.247550</td>\n    </tr>\n    <tr>\n      <th>2</th>\n      <td>2</td>\n      <td>31.0</td>\n      <td>7.0</td>\n      <td>2.0</td>\n      <td>2.0</td>\n      <td>6.0</td>\n      <td>1.0</td>\n      <td>24.0</td>\n      <td>6.0</td>\n      <td>1.0</td>\n      <td>0.0</td>\n      <td>3.437208</td>\n    </tr>\n    <tr>\n      <th>3</th>\n      <td>3</td>\n      <td>83.0</td>\n      <td>4.0</td>\n      <td>3.0</td>\n      <td>4.0</td>\n      <td>5.0</td>\n      <td>1.0</td>\n      <td>28.0</td>\n      <td>6.0</td>\n      <td>1.0</td>\n      <td>0.0</td>\n      <td>4.420045</td>\n    </tr>\n    <tr>\n      <th>4</th>\n      <td>4</td>\n      <td>640.0</td>\n      <td>7.0</td>\n      <td>5.0</td>\n      <td>6.0</td>\n      <td>4.0</td>\n      <td>0.0</td>\n      <td>68.0</td>\n      <td>6.0</td>\n      <td>1.0</td>\n      <td>0.0</td>\n      <td>6.461624</td>\n    </tr>\n    <tr>\n      <th>...</th>\n      <td>...</td>\n      <td>...</td>\n      <td>...</td>\n      <td>...</td>\n      <td>...</td>\n      <td>...</td>\n      <td>...</td>\n      <td>...</td>\n      <td>...</td>\n      <td>...</td>\n      <td>...</td>\n      <td>...</td>\n    </tr>\n    <tr>\n      <th>939</th>\n      <td>939</td>\n      <td>0.0</td>\n      <td>7.0</td>\n      <td>7.0</td>\n      <td>1.0</td>\n      <td>6.0</td>\n      <td>4.0</td>\n      <td>73.0</td>\n      <td>6.0</td>\n      <td>24.0</td>\n      <td>1.0</td>\n      <td>-2.302585</td>\n    </tr>\n    <tr>\n      <th>940</th>\n      <td>940</td>\n      <td>0.0</td>\n      <td>7.0</td>\n      <td>5.0</td>\n      <td>2.0</td>\n      <td>6.0</td>\n      <td>6.0</td>\n      <td>50.0</td>\n      <td>6.0</td>\n      <td>24.0</td>\n      <td>1.0</td>\n      <td>-2.302585</td>\n    </tr>\n    <tr>\n      <th>941</th>\n      <td>941</td>\n      <td>0.0</td>\n      <td>3.0</td>\n      <td>6.0</td>\n      <td>2.0</td>\n      <td>7.0</td>\n      <td>5.0</td>\n      <td>43.0</td>\n      <td>6.0</td>\n      <td>24.0</td>\n      <td>1.0</td>\n      <td>-2.302585</td>\n    </tr>\n    <tr>\n      <th>942</th>\n      <td>942</td>\n      <td>0.0</td>\n      <td>6.0</td>\n      <td>6.0</td>\n      <td>2.0</td>\n      <td>5.0</td>\n      <td>6.0</td>\n      <td>46.0</td>\n      <td>7.0</td>\n      <td>24.0</td>\n      <td>1.0</td>\n      <td>-2.302585</td>\n    </tr>\n    <tr>\n      <th>943</th>\n      <td>943</td>\n      <td>18.0</td>\n      <td>7.0</td>\n      <td>4.0</td>\n      <td>2.0</td>\n      <td>6.0</td>\n      <td>3.0</td>\n      <td>61.0</td>\n      <td>7.0</td>\n      <td>24.0</td>\n      <td>1.0</td>\n      <td>2.895912</td>\n    </tr>\n  </tbody>\n</table>\n<p>944 rows × 12 columns</p>\n</div>"
     },
     "execution_count": 5,
     "metadata": {},
     "output_type": "execute_result"
    }
   ],
   "source": [
    "import pandas as pd\n",
    "\n",
    "dt_votes = pd.read_csv(\"datasets/anes96.csv\")\n",
    "\n",
    "dt_votes.rename(columns={\n",
    "    \"educ\": \"education\"\n",
    "})"
   ]
  },
  {
   "cell_type": "markdown",
   "source": [
    "## 2. Create a new column called party based on each respondent’s answer to PID. party should equal Democrat if the respondent selected either Strong - Democrat or Weak Democrat. party will equal Republican if the respondent selected Strong or Weak Republican for PID and Independent if they selected anything else."
   ],
   "metadata": {
    "collapsed": false
   },
   "id": "67b0f14f1f079314"
  },
  {
   "cell_type": "code",
   "execution_count": 8,
   "id": "506b05e5-88a2-46d8-a476-db59ca438c80",
   "metadata": {
    "ExecuteTime": {
     "end_time": "2023-10-15T17:59:30.778769600Z",
     "start_time": "2023-10-15T17:59:30.701645600Z"
    }
   },
   "outputs": [
    {
     "data": {
      "text/plain": "     Unnamed: 0  popul  TVnews  selfLR  ClinLR  DoleLR  PID   age  educ  \\\n0             0    0.0     7.0     7.0     1.0     6.0  6.0  36.0   3.0   \n1             1  190.0     1.0     3.0     3.0     5.0  1.0  20.0   4.0   \n2             2   31.0     7.0     2.0     2.0     6.0  1.0  24.0   6.0   \n3             3   83.0     4.0     3.0     4.0     5.0  1.0  28.0   6.0   \n4             4  640.0     7.0     5.0     6.0     4.0  0.0  68.0   6.0   \n..          ...    ...     ...     ...     ...     ...  ...   ...   ...   \n939         939    0.0     7.0     7.0     1.0     6.0  4.0  73.0   6.0   \n940         940    0.0     7.0     5.0     2.0     6.0  6.0  50.0   6.0   \n941         941    0.0     3.0     6.0     2.0     7.0  5.0  43.0   6.0   \n942         942    0.0     6.0     6.0     2.0     5.0  6.0  46.0   7.0   \n943         943   18.0     7.0     4.0     2.0     6.0  3.0  61.0   7.0   \n\n     income  vote  logpopul        party  \n0       1.0   1.0 -2.302585   Republican  \n1       1.0   0.0  5.247550     Democrat  \n2       1.0   0.0  3.437208     Democrat  \n3       1.0   0.0  4.420045     Democrat  \n4       1.0   0.0  6.461624     Democrat  \n..      ...   ...       ...          ...  \n939    24.0   1.0 -2.302585  Independent  \n940    24.0   1.0 -2.302585   Republican  \n941    24.0   1.0 -2.302585   Republican  \n942    24.0   1.0 -2.302585   Republican  \n943    24.0   1.0  2.895912  Independent  \n\n[944 rows x 13 columns]",
      "text/html": "<div>\n<style scoped>\n    .dataframe tbody tr th:only-of-type {\n        vertical-align: middle;\n    }\n\n    .dataframe tbody tr th {\n        vertical-align: top;\n    }\n\n    .dataframe thead th {\n        text-align: right;\n    }\n</style>\n<table border=\"1\" class=\"dataframe\">\n  <thead>\n    <tr style=\"text-align: right;\">\n      <th></th>\n      <th>Unnamed: 0</th>\n      <th>popul</th>\n      <th>TVnews</th>\n      <th>selfLR</th>\n      <th>ClinLR</th>\n      <th>DoleLR</th>\n      <th>PID</th>\n      <th>age</th>\n      <th>educ</th>\n      <th>income</th>\n      <th>vote</th>\n      <th>logpopul</th>\n      <th>party</th>\n    </tr>\n  </thead>\n  <tbody>\n    <tr>\n      <th>0</th>\n      <td>0</td>\n      <td>0.0</td>\n      <td>7.0</td>\n      <td>7.0</td>\n      <td>1.0</td>\n      <td>6.0</td>\n      <td>6.0</td>\n      <td>36.0</td>\n      <td>3.0</td>\n      <td>1.0</td>\n      <td>1.0</td>\n      <td>-2.302585</td>\n      <td>Republican</td>\n    </tr>\n    <tr>\n      <th>1</th>\n      <td>1</td>\n      <td>190.0</td>\n      <td>1.0</td>\n      <td>3.0</td>\n      <td>3.0</td>\n      <td>5.0</td>\n      <td>1.0</td>\n      <td>20.0</td>\n      <td>4.0</td>\n      <td>1.0</td>\n      <td>0.0</td>\n      <td>5.247550</td>\n      <td>Democrat</td>\n    </tr>\n    <tr>\n      <th>2</th>\n      <td>2</td>\n      <td>31.0</td>\n      <td>7.0</td>\n      <td>2.0</td>\n      <td>2.0</td>\n      <td>6.0</td>\n      <td>1.0</td>\n      <td>24.0</td>\n      <td>6.0</td>\n      <td>1.0</td>\n      <td>0.0</td>\n      <td>3.437208</td>\n      <td>Democrat</td>\n    </tr>\n    <tr>\n      <th>3</th>\n      <td>3</td>\n      <td>83.0</td>\n      <td>4.0</td>\n      <td>3.0</td>\n      <td>4.0</td>\n      <td>5.0</td>\n      <td>1.0</td>\n      <td>28.0</td>\n      <td>6.0</td>\n      <td>1.0</td>\n      <td>0.0</td>\n      <td>4.420045</td>\n      <td>Democrat</td>\n    </tr>\n    <tr>\n      <th>4</th>\n      <td>4</td>\n      <td>640.0</td>\n      <td>7.0</td>\n      <td>5.0</td>\n      <td>6.0</td>\n      <td>4.0</td>\n      <td>0.0</td>\n      <td>68.0</td>\n      <td>6.0</td>\n      <td>1.0</td>\n      <td>0.0</td>\n      <td>6.461624</td>\n      <td>Democrat</td>\n    </tr>\n    <tr>\n      <th>...</th>\n      <td>...</td>\n      <td>...</td>\n      <td>...</td>\n      <td>...</td>\n      <td>...</td>\n      <td>...</td>\n      <td>...</td>\n      <td>...</td>\n      <td>...</td>\n      <td>...</td>\n      <td>...</td>\n      <td>...</td>\n      <td>...</td>\n    </tr>\n    <tr>\n      <th>939</th>\n      <td>939</td>\n      <td>0.0</td>\n      <td>7.0</td>\n      <td>7.0</td>\n      <td>1.0</td>\n      <td>6.0</td>\n      <td>4.0</td>\n      <td>73.0</td>\n      <td>6.0</td>\n      <td>24.0</td>\n      <td>1.0</td>\n      <td>-2.302585</td>\n      <td>Independent</td>\n    </tr>\n    <tr>\n      <th>940</th>\n      <td>940</td>\n      <td>0.0</td>\n      <td>7.0</td>\n      <td>5.0</td>\n      <td>2.0</td>\n      <td>6.0</td>\n      <td>6.0</td>\n      <td>50.0</td>\n      <td>6.0</td>\n      <td>24.0</td>\n      <td>1.0</td>\n      <td>-2.302585</td>\n      <td>Republican</td>\n    </tr>\n    <tr>\n      <th>941</th>\n      <td>941</td>\n      <td>0.0</td>\n      <td>3.0</td>\n      <td>6.0</td>\n      <td>2.0</td>\n      <td>7.0</td>\n      <td>5.0</td>\n      <td>43.0</td>\n      <td>6.0</td>\n      <td>24.0</td>\n      <td>1.0</td>\n      <td>-2.302585</td>\n      <td>Republican</td>\n    </tr>\n    <tr>\n      <th>942</th>\n      <td>942</td>\n      <td>0.0</td>\n      <td>6.0</td>\n      <td>6.0</td>\n      <td>2.0</td>\n      <td>5.0</td>\n      <td>6.0</td>\n      <td>46.0</td>\n      <td>7.0</td>\n      <td>24.0</td>\n      <td>1.0</td>\n      <td>-2.302585</td>\n      <td>Republican</td>\n    </tr>\n    <tr>\n      <th>943</th>\n      <td>943</td>\n      <td>18.0</td>\n      <td>7.0</td>\n      <td>4.0</td>\n      <td>2.0</td>\n      <td>6.0</td>\n      <td>3.0</td>\n      <td>61.0</td>\n      <td>7.0</td>\n      <td>24.0</td>\n      <td>1.0</td>\n      <td>2.895912</td>\n      <td>Independent</td>\n    </tr>\n  </tbody>\n</table>\n<p>944 rows × 13 columns</p>\n</div>"
     },
     "execution_count": 8,
     "metadata": {},
     "output_type": "execute_result"
    }
   ],
   "source": [
    "import pandas as pd\n",
    "\n",
    "dt_votes = pd.read_csv(\"datasets/anes96.csv\")\n",
    "\n",
    "dt_votes['party'] = dt_votes['PID'].map(\n",
    "    lambda pid: 'Democrat' \n",
    "    if pid == 0 or pid == 1 \n",
    "    else 'Republican' if pid == 5 or pid == 6 \n",
    "    else 'Independent'\n",
    ")\n",
    "\n",
    "dt_votes"
   ]
  },
  {
   "cell_type": "markdown",
   "source": [
    "## 3. Create a new column called age group that buckets respondents into the following categories based on their age: 18-24, 25-34, 35-44, 45-54, 55-64, and 65 and over."
   ],
   "metadata": {
    "collapsed": false
   },
   "id": "a6b0ff759935bad0"
  },
  {
   "cell_type": "code",
   "execution_count": 10,
   "id": "43310a44-472b-492d-89d6-bef5e6ec33dc",
   "metadata": {
    "ExecuteTime": {
     "end_time": "2023-10-15T18:02:13.246104Z",
     "start_time": "2023-10-15T18:02:13.196834300Z"
    }
   },
   "outputs": [
    {
     "data": {
      "text/plain": "     Unnamed: 0  popul  TVnews  selfLR  ClinLR  DoleLR  PID   age  educ  \\\n0             0    0.0     7.0     7.0     1.0     6.0  6.0  36.0   3.0   \n1             1  190.0     1.0     3.0     3.0     5.0  1.0  20.0   4.0   \n2             2   31.0     7.0     2.0     2.0     6.0  1.0  24.0   6.0   \n3             3   83.0     4.0     3.0     4.0     5.0  1.0  28.0   6.0   \n4             4  640.0     7.0     5.0     6.0     4.0  0.0  68.0   6.0   \n..          ...    ...     ...     ...     ...     ...  ...   ...   ...   \n939         939    0.0     7.0     7.0     1.0     6.0  4.0  73.0   6.0   \n940         940    0.0     7.0     5.0     2.0     6.0  6.0  50.0   6.0   \n941         941    0.0     3.0     6.0     2.0     7.0  5.0  43.0   6.0   \n942         942    0.0     6.0     6.0     2.0     5.0  6.0  46.0   7.0   \n943         943   18.0     7.0     4.0     2.0     6.0  3.0  61.0   7.0   \n\n     income  vote  logpopul     ageGroup  \n0       1.0   1.0 -2.302585        35-44  \n1       1.0   0.0  5.247550        18-24  \n2       1.0   0.0  3.437208        18-24  \n3       1.0   0.0  4.420045        25-34  \n4       1.0   0.0  6.461624  65 and over  \n..      ...   ...       ...          ...  \n939    24.0   1.0 -2.302585  65 and over  \n940    24.0   1.0 -2.302585        45-54  \n941    24.0   1.0 -2.302585        35-44  \n942    24.0   1.0 -2.302585        45-54  \n943    24.0   1.0  2.895912        55-65  \n\n[944 rows x 13 columns]",
      "text/html": "<div>\n<style scoped>\n    .dataframe tbody tr th:only-of-type {\n        vertical-align: middle;\n    }\n\n    .dataframe tbody tr th {\n        vertical-align: top;\n    }\n\n    .dataframe thead th {\n        text-align: right;\n    }\n</style>\n<table border=\"1\" class=\"dataframe\">\n  <thead>\n    <tr style=\"text-align: right;\">\n      <th></th>\n      <th>Unnamed: 0</th>\n      <th>popul</th>\n      <th>TVnews</th>\n      <th>selfLR</th>\n      <th>ClinLR</th>\n      <th>DoleLR</th>\n      <th>PID</th>\n      <th>age</th>\n      <th>educ</th>\n      <th>income</th>\n      <th>vote</th>\n      <th>logpopul</th>\n      <th>ageGroup</th>\n    </tr>\n  </thead>\n  <tbody>\n    <tr>\n      <th>0</th>\n      <td>0</td>\n      <td>0.0</td>\n      <td>7.0</td>\n      <td>7.0</td>\n      <td>1.0</td>\n      <td>6.0</td>\n      <td>6.0</td>\n      <td>36.0</td>\n      <td>3.0</td>\n      <td>1.0</td>\n      <td>1.0</td>\n      <td>-2.302585</td>\n      <td>35-44</td>\n    </tr>\n    <tr>\n      <th>1</th>\n      <td>1</td>\n      <td>190.0</td>\n      <td>1.0</td>\n      <td>3.0</td>\n      <td>3.0</td>\n      <td>5.0</td>\n      <td>1.0</td>\n      <td>20.0</td>\n      <td>4.0</td>\n      <td>1.0</td>\n      <td>0.0</td>\n      <td>5.247550</td>\n      <td>18-24</td>\n    </tr>\n    <tr>\n      <th>2</th>\n      <td>2</td>\n      <td>31.0</td>\n      <td>7.0</td>\n      <td>2.0</td>\n      <td>2.0</td>\n      <td>6.0</td>\n      <td>1.0</td>\n      <td>24.0</td>\n      <td>6.0</td>\n      <td>1.0</td>\n      <td>0.0</td>\n      <td>3.437208</td>\n      <td>18-24</td>\n    </tr>\n    <tr>\n      <th>3</th>\n      <td>3</td>\n      <td>83.0</td>\n      <td>4.0</td>\n      <td>3.0</td>\n      <td>4.0</td>\n      <td>5.0</td>\n      <td>1.0</td>\n      <td>28.0</td>\n      <td>6.0</td>\n      <td>1.0</td>\n      <td>0.0</td>\n      <td>4.420045</td>\n      <td>25-34</td>\n    </tr>\n    <tr>\n      <th>4</th>\n      <td>4</td>\n      <td>640.0</td>\n      <td>7.0</td>\n      <td>5.0</td>\n      <td>6.0</td>\n      <td>4.0</td>\n      <td>0.0</td>\n      <td>68.0</td>\n      <td>6.0</td>\n      <td>1.0</td>\n      <td>0.0</td>\n      <td>6.461624</td>\n      <td>65 and over</td>\n    </tr>\n    <tr>\n      <th>...</th>\n      <td>...</td>\n      <td>...</td>\n      <td>...</td>\n      <td>...</td>\n      <td>...</td>\n      <td>...</td>\n      <td>...</td>\n      <td>...</td>\n      <td>...</td>\n      <td>...</td>\n      <td>...</td>\n      <td>...</td>\n      <td>...</td>\n    </tr>\n    <tr>\n      <th>939</th>\n      <td>939</td>\n      <td>0.0</td>\n      <td>7.0</td>\n      <td>7.0</td>\n      <td>1.0</td>\n      <td>6.0</td>\n      <td>4.0</td>\n      <td>73.0</td>\n      <td>6.0</td>\n      <td>24.0</td>\n      <td>1.0</td>\n      <td>-2.302585</td>\n      <td>65 and over</td>\n    </tr>\n    <tr>\n      <th>940</th>\n      <td>940</td>\n      <td>0.0</td>\n      <td>7.0</td>\n      <td>5.0</td>\n      <td>2.0</td>\n      <td>6.0</td>\n      <td>6.0</td>\n      <td>50.0</td>\n      <td>6.0</td>\n      <td>24.0</td>\n      <td>1.0</td>\n      <td>-2.302585</td>\n      <td>45-54</td>\n    </tr>\n    <tr>\n      <th>941</th>\n      <td>941</td>\n      <td>0.0</td>\n      <td>3.0</td>\n      <td>6.0</td>\n      <td>2.0</td>\n      <td>7.0</td>\n      <td>5.0</td>\n      <td>43.0</td>\n      <td>6.0</td>\n      <td>24.0</td>\n      <td>1.0</td>\n      <td>-2.302585</td>\n      <td>35-44</td>\n    </tr>\n    <tr>\n      <th>942</th>\n      <td>942</td>\n      <td>0.0</td>\n      <td>6.0</td>\n      <td>6.0</td>\n      <td>2.0</td>\n      <td>5.0</td>\n      <td>6.0</td>\n      <td>46.0</td>\n      <td>7.0</td>\n      <td>24.0</td>\n      <td>1.0</td>\n      <td>-2.302585</td>\n      <td>45-54</td>\n    </tr>\n    <tr>\n      <th>943</th>\n      <td>943</td>\n      <td>18.0</td>\n      <td>7.0</td>\n      <td>4.0</td>\n      <td>2.0</td>\n      <td>6.0</td>\n      <td>3.0</td>\n      <td>61.0</td>\n      <td>7.0</td>\n      <td>24.0</td>\n      <td>1.0</td>\n      <td>2.895912</td>\n      <td>55-65</td>\n    </tr>\n  </tbody>\n</table>\n<p>944 rows × 13 columns</p>\n</div>"
     },
     "execution_count": 10,
     "metadata": {},
     "output_type": "execute_result"
    }
   ],
   "source": [
    "import pandas as pd\n",
    "\n",
    "dt_votes = pd.read_csv(\"datasets/anes96.csv\")\n",
    "\n",
    "dt_votes['ageGroup'] = dt_votes['age'].map(\n",
    "    lambda age: '18-24' \n",
    "    if 18 <= age <= 24\n",
    "    else '25-34' if 25 <= age <= 34 \n",
    "    else '35-44' if 35 <= age <= 44\n",
    "    else '45-54' if 45 <= age <= 54\n",
    "    else '55-65' if 55 <= age <= 65\n",
    "    else '65 and over'\n",
    ")\n",
    "\n",
    "dt_votes"
   ]
  },
  {
   "cell_type": "markdown",
   "source": [
    "## 4. Use the filtering method to find all the respondents who have the impression that Bill Clinton is moderate or conservative (ClinLR equals 4 or higher). How many respondents are in this subset?"
   ],
   "metadata": {
    "collapsed": false
   },
   "id": "125820303ff2f0"
  },
  {
   "cell_type": "code",
   "execution_count": 11,
   "outputs": [
    {
     "name": "stdout",
     "output_type": "stream",
     "text": [
      "     Unnamed: 0  popul  TVnews  selfLR  ClinLR  DoleLR  PID   age  educ  \\\n",
      "3             3   83.0     4.0     3.0     4.0     5.0  1.0  28.0   6.0   \n",
      "4             4  640.0     7.0     5.0     6.0     4.0  0.0  68.0   6.0   \n",
      "5             5  110.0     3.0     3.0     4.0     6.0  1.0  21.0   4.0   \n",
      "6             6  100.0     7.0     5.0     6.0     4.0  1.0  77.0   4.0   \n",
      "7             7   31.0     1.0     5.0     4.0     5.0  4.0  21.0   4.0   \n",
      "..          ...    ...     ...     ...     ...     ...  ...   ...   ...   \n",
      "911         911   24.0     7.0     3.0     4.0     5.0  1.0  38.0   7.0   \n",
      "912         912   18.0     0.0     2.0     4.0     6.0  1.0  51.0   7.0   \n",
      "921         921    0.0     7.0     2.0     4.0     5.0  2.0  53.0   6.0   \n",
      "925         925    0.0     0.0     3.0     4.0     4.0  0.0  48.0   6.0   \n",
      "933         933   27.0     7.0     4.0     4.0     7.0  2.0  46.0   3.0   \n",
      "\n",
      "     income  vote  logpopul     ageGroup  \n",
      "3       1.0   0.0  4.420045        25-34  \n",
      "4       1.0   0.0  6.461624  65 and over  \n",
      "5       1.0   0.0  4.701389        18-24  \n",
      "6       1.0   0.0  4.606170  65 and over  \n",
      "7       1.0   0.0  3.437208        18-24  \n",
      "..      ...   ...       ...          ...  \n",
      "911    24.0   0.0  3.182212        35-44  \n",
      "912    24.0   0.0  2.895912        45-54  \n",
      "921    24.0   0.0 -2.302585        45-54  \n",
      "925    24.0   0.0 -2.302585        45-54  \n",
      "933    24.0   0.0  3.299534        45-54  \n",
      "\n",
      "[282 rows x 13 columns]\n",
      "0.9883474576271186\n"
     ]
    }
   ],
   "source": [
    "print(dt_votes[dt_votes[\"ClinLR\"] >= 4])\n",
    "print(933 / 944)"
   ],
   "metadata": {
    "collapsed": false,
    "ExecuteTime": {
     "end_time": "2023-10-15T18:02:53.677627400Z",
     "start_time": "2023-10-15T18:02:53.636499900Z"
    }
   },
   "id": "ebceddd3295c2489"
  },
  {
   "cell_type": "markdown",
   "source": [
    "## 5. Among these respondents, how many have a household income less than $50, 000 and attended at least some college?"
   ],
   "metadata": {
    "collapsed": false
   },
   "id": "654cb6ca860dc137"
  },
  {
   "cell_type": "code",
   "execution_count": 12,
   "outputs": [
    {
     "name": "stdout",
     "output_type": "stream",
     "text": [
      "     Unnamed: 0  popul  TVnews  selfLR  ClinLR  DoleLR  PID   age  educ  \\\n",
      "1             1  190.0     1.0     3.0     3.0     5.0  1.0  20.0   4.0   \n",
      "2             2   31.0     7.0     2.0     2.0     6.0  1.0  24.0   6.0   \n",
      "3             3   83.0     4.0     3.0     4.0     5.0  1.0  28.0   6.0   \n",
      "4             4  640.0     7.0     5.0     6.0     4.0  0.0  68.0   6.0   \n",
      "5             5  110.0     3.0     3.0     4.0     6.0  1.0  21.0   4.0   \n",
      "..          ...    ...     ...     ...     ...     ...  ...   ...   ...   \n",
      "566         566    0.0     4.0     4.0     2.0     5.0  4.0  35.0   7.0   \n",
      "568         568   71.0     2.0     4.0     6.0     2.0  0.0  57.0   4.0   \n",
      "570         570   83.0     4.0     1.0     4.0     6.0  2.0  43.0   6.0   \n",
      "571         571  360.0     3.0     4.0     4.0     7.0  0.0  34.0   4.0   \n",
      "572         572  180.0     7.0     2.0     2.0     4.0  0.0  44.0   5.0   \n",
      "\n",
      "     income  vote  logpopul     ageGroup  \n",
      "1       1.0   0.0  5.247550        18-24  \n",
      "2       1.0   0.0  3.437208        18-24  \n",
      "3       1.0   0.0  4.420045        25-34  \n",
      "4       1.0   0.0  6.461624  65 and over  \n",
      "5       1.0   0.0  4.701389        18-24  \n",
      "..      ...   ...       ...          ...  \n",
      "566    19.0   1.0 -2.302585        35-44  \n",
      "568    19.0   0.0  4.264087        55-65  \n",
      "570    19.0   0.0  4.420045        35-44  \n",
      "571    19.0   0.0  5.886382        25-34  \n",
      "572    19.0   0.0  5.193512        35-44  \n",
      "\n",
      "[327 rows x 13 columns]\n",
      "0.6059322033898306\n"
     ]
    }
   ],
   "source": [
    "print(dt_votes[(dt_votes[\"income\"] < 20) & (dt_votes[\"educ\"] >= 4)])\n",
    "print(572 / 944)"
   ],
   "metadata": {
    "collapsed": false,
    "ExecuteTime": {
     "end_time": "2023-10-15T18:03:11.433147800Z",
     "start_time": "2023-10-15T18:03:11.365084Z"
    }
   },
   "id": "c5073ae6dbfd786c"
  },
  {
   "cell_type": "markdown",
   "source": [
    "## 6. How many voters of Democrats/Republicans are younger than 44 years? How many are older. The results are expressed in percent."
   ],
   "metadata": {
    "collapsed": false
   },
   "id": "b84bd76db71b1b87"
  },
  {
   "cell_type": "code",
   "execution_count": 54,
   "outputs": [
    {
     "name": "stdout",
     "output_type": "stream",
     "text": [
      "Younger than 44 yrs:\n",
      " Unnamed: 0    0.491525\n",
      "dtype: float64\n",
      "Older:\n",
      " Unnamed: 0    0.508475\n",
      "dtype: float64\n"
     ]
    }
   ],
   "source": [
    "print('Younger than 44 yrs:\\n', dt_votes[dt_votes['age'] < 44].count()[0:1] / dt_votes.count()[0:1])\n",
    "print('Older:\\n', dt_votes[dt_votes['age'] >= 44].count()[0:1] / dt_votes.count()[0:1])"
   ],
   "metadata": {
    "collapsed": false,
    "ExecuteTime": {
     "end_time": "2023-10-15T18:17:35.197076300Z",
     "start_time": "2023-10-15T18:17:35.154037Z"
    }
   },
   "id": "a5f251909d70f986"
  },
  {
   "cell_type": "markdown",
   "source": [
    "## 7. Write a function which checks the percentage of Clinton voters for various conditions."
   ],
   "metadata": {
    "collapsed": false
   },
   "id": "8437f9cfc81b727e"
  },
  {
   "cell_type": "code",
   "execution_count": 61,
   "outputs": [
    {
     "name": "stdout",
     "output_type": "stream",
     "text": [
      "Democrat voters:\n",
      "Unnamed: 0    0.664247\n",
      "dtype: float64\n",
      "Republican voters:\n",
      "Unnamed: 0    0.061706\n",
      "dtype: float64\n",
      "Independent voters:\n",
      "Unnamed: 0    0.274047\n",
      "dtype: float64\n"
     ]
    }
   ],
   "source": [
    "clintonVoters = dt_votes[dt_votes['vote'] == 0].count()[0:1]\n",
    "print('Democrat voters:')\n",
    "print(dt_votes[(dt_votes['vote'] == 0) & ((dt_votes['PID'] == 0) | (dt_votes['PID'] == 1))].count()[0:1] / clintonVoters)\n",
    "\n",
    "print('Republican voters:')\n",
    "print(dt_votes[(dt_votes['vote'] == 0) & ((dt_votes['PID'] == 5) | (dt_votes['PID'] == 6))].count()[0:1] / clintonVoters)\n",
    "\n",
    "print('Independent voters:')\n",
    "print(dt_votes[(dt_votes['vote'] == 0) & (dt_votes['PID'] >= 2) & (dt_votes['PID'] <= 4)].count()[0:1] / clintonVoters)"
   ],
   "metadata": {
    "collapsed": false,
    "ExecuteTime": {
     "end_time": "2023-10-15T18:25:20.518908400Z",
     "start_time": "2023-10-15T18:25:20.469376300Z"
    }
   },
   "id": "59aada9b2e6bb2e4"
  },
  {
   "cell_type": "markdown",
   "source": [
    "## 8. How big is the difference between Democrats or Republicans voting for Clinton?"
   ],
   "metadata": {
    "collapsed": false
   },
   "id": "9941709a6fbac074"
  },
  {
   "cell_type": "code",
   "execution_count": 62,
   "outputs": [
    {
     "name": "stdout",
     "output_type": "stream",
     "text": [
      "0.602541\n"
     ]
    }
   ],
   "source": [
    "import math\n",
    "print(math.fabs(0.664247 - 0.061706))"
   ],
   "metadata": {
    "collapsed": false,
    "ExecuteTime": {
     "end_time": "2023-10-15T18:26:25.309005100Z",
     "start_time": "2023-10-15T18:26:25.263342600Z"
    }
   },
   "id": "cb78b0880fac628f"
  },
  {
   "cell_type": "markdown",
   "source": [
    "## 9. How is the age of the sample distributed. Is there a hint for voting Clinton or Dole. Create also a histogram."
   ],
   "metadata": {
    "collapsed": false
   },
   "id": "5bc1423fe7aa1037"
  },
  {
   "cell_type": "code",
   "execution_count": 94,
   "outputs": [
    {
     "data": {
      "text/plain": "<Axes: xlabel='vote', ylabel='age'>"
     },
     "execution_count": 94,
     "metadata": {},
     "output_type": "execute_result"
    },
    {
     "data": {
      "text/plain": "<Figure size 640x480 with 1 Axes>",
      "image/png": "[encoded data removed]"
     },
     "metadata": {},
     "output_type": "display_data"
    }
   ],
   "source": [
    "import seaborn as sb\n",
    "\n",
    "sb.histplot(data=dt_votes, x='vote', y='age', multiple='stack', hue='vote')"
   ],
   "metadata": {
    "collapsed": false,
    "ExecuteTime": {
     "end_time": "2023-10-15T18:43:26.758696400Z",
     "start_time": "2023-10-15T18:43:26.478432600Z"
    }
   },
   "id": "d9ab4938d8315515"
  },
  {
   "cell_type": "markdown",
   "source": [
    "## In the next exercise, we are using Automobile Dataset for data analysis. This Dataset has different characteristics of an auto such as body-style, wheel-base, engine-type, price, mileage, horsepower, etc."
   ],
   "metadata": {
    "collapsed": false
   },
   "id": "f7c4581447d22e47"
  },
  {
   "cell_type": "markdown",
   "source": [
    "## 10. From the given dataset print the first and last five rows"
   ],
   "metadata": {
    "collapsed": false
   },
   "id": "1db93c895118ead5"
  },
  {
   "cell_type": "code",
   "execution_count": 40,
   "outputs": [
    {
     "name": "stdout",
     "output_type": "stream",
     "text": [
      "   index      company   body-style  wheel-base  length engine-type  \\\n",
      "0      0  alfa-romero  convertible        88.6   168.8        dohc   \n",
      "1      1  alfa-romero  convertible        88.6   168.8        dohc   \n",
      "2      2  alfa-romero    hatchback        94.5   171.2        ohcv   \n",
      "3      3         audi        sedan        99.8   176.6         ohc   \n",
      "4      4         audi        sedan        99.4   176.6         ohc   \n",
      "\n",
      "  num-of-cylinders  horsepower  average-mileage    price  \n",
      "0             four         111               21  13495.0  \n",
      "1             four         111               21  16500.0  \n",
      "2              six         154               19  16500.0  \n",
      "3             four         102               24  13950.0  \n",
      "4             five         115               18  17450.0  \n",
      "    index     company body-style  wheel-base  length engine-type  \\\n",
      "56     81  volkswagen      sedan        97.3   171.7         ohc   \n",
      "57     82  volkswagen      sedan        97.3   171.7         ohc   \n",
      "58     86  volkswagen      sedan        97.3   171.7         ohc   \n",
      "59     87       volvo      sedan       104.3   188.8         ohc   \n",
      "60     88       volvo      wagon       104.3   188.8         ohc   \n",
      "\n",
      "   num-of-cylinders  horsepower  average-mileage    price  \n",
      "56             four          85               27   7975.0  \n",
      "57             four          52               37   7995.0  \n",
      "58             four         100               26   9995.0  \n",
      "59             four         114               23  12940.0  \n",
      "60             four         114               23  13415.0  \n"
     ]
    }
   ],
   "source": [
    "import pandas as pd\n",
    "\n",
    "dt_mobile = pd.read_csv(\"datasets/Automobile_data.csv\")\n",
    "\n",
    "print(dt_mobile.head())\n",
    "print(dt_mobile.tail())"
   ],
   "metadata": {
    "collapsed": false,
    "ExecuteTime": {
     "end_time": "2023-10-15T18:12:37.350232300Z",
     "start_time": "2023-10-15T18:12:37.310913100Z"
    }
   },
   "id": "bb2dabdf16810231"
  },
  {
   "cell_type": "markdown",
   "source": [
    "## 11. Clean the dataset and update the CSV file"
   ],
   "metadata": {
    "collapsed": false
   },
   "id": "51a285824f8bde43"
  },
  {
   "cell_type": "code",
   "execution_count": null,
   "outputs": [],
   "source": [],
   "metadata": {
    "collapsed": false
   },
   "id": "843f70d6d0da9114"
  },
  {
   "cell_type": "markdown",
   "source": [
    "## 12. Find the most expensive car company name."
   ],
   "metadata": {
    "collapsed": false
   },
   "id": "cbf682bbb5a85f79"
  },
  {
   "cell_type": "code",
   "execution_count": null,
   "outputs": [],
   "source": [],
   "metadata": {
    "collapsed": false
   },
   "id": "eb7144146b776603"
  },
  {
   "cell_type": "markdown",
   "source": [
    "## 13. Print All Toyota Cars details"
   ],
   "metadata": {
    "collapsed": false
   },
   "id": "e85a2e97a03a5b07"
  },
  {
   "cell_type": "code",
   "execution_count": null,
   "outputs": [],
   "source": [],
   "metadata": {
    "collapsed": false
   },
   "id": "b20cfd39b42cc322"
  },
  {
   "cell_type": "markdown",
   "source": [
    "## 14. Count total cars per company"
   ],
   "metadata": {
    "collapsed": false
   },
   "id": "d320f91fdaf0dfcc"
  },
  {
   "cell_type": "code",
   "execution_count": null,
   "outputs": [],
   "source": [],
   "metadata": {
    "collapsed": false
   },
   "id": "f865099e99c36f53"
  },
  {
   "cell_type": "markdown",
   "source": [
    "## 15. Find each company’s highest price car"
   ],
   "metadata": {
    "collapsed": false
   },
   "id": "f6a0ebcd0523a8a5"
  },
  {
   "cell_type": "code",
   "execution_count": null,
   "outputs": [],
   "source": [],
   "metadata": {
    "collapsed": false
   },
   "id": "c817c60041bb51a1"
  },
  {
   "cell_type": "markdown",
   "source": [
    "## 16. Find the average mileage of each car making company"
   ],
   "metadata": {
    "collapsed": false
   },
   "id": "8a1e8d240b56f6cc"
  },
  {
   "cell_type": "code",
   "execution_count": null,
   "outputs": [],
   "source": [],
   "metadata": {
    "collapsed": false
   },
   "id": "89250b3776b01e88"
  },
  {
   "cell_type": "markdown",
   "source": [
    "## 17. Sort all cars by Price column"
   ],
   "metadata": {
    "collapsed": false
   },
   "id": "5d1b5a93d6d1feb9"
  },
  {
   "cell_type": "code",
   "execution_count": null,
   "outputs": [],
   "source": [],
   "metadata": {
    "collapsed": false
   },
   "id": "ab2f121ce38589ab"
  },
  {
   "cell_type": "markdown",
   "source": [
    "## 18. Concatenate two data frames using the following conditions"
   ],
   "metadata": {
    "collapsed": false
   },
   "id": "f02d5f8bc52fb967"
  },
  {
   "cell_type": "code",
   "execution_count": null,
   "outputs": [],
   "source": [],
   "metadata": {
    "collapsed": false
   },
   "id": "149cc45d857b6033"
  },
  {
   "cell_type": "markdown",
   "source": [
    "## 19. Merge two data frames using the following condition"
   ],
   "metadata": {
    "collapsed": false
   },
   "id": "6388bfad98605ef0"
  },
  {
   "cell_type": "code",
   "execution_count": null,
   "outputs": [],
   "source": [],
   "metadata": {
    "collapsed": false
   },
   "id": "eb2a7d0525d621c4"
  }
 ],
 "metadata": {
  "kernelspec": {
   "display_name": "Python 3 (ipykernel)",
   "language": "python",
   "name": "python3"
  },
  "language_info": {
   "codemirror_mode": {
    "name": "ipython",
    "version": 3
   },
   "file_extension": ".py",
   "mimetype": "text/x-python",
   "name": "python",
   "nbconvert_exporter": "python",
   "pygments_lexer": "ipython3",
   "version": "3.10.12"
  }
 },
 "nbformat": 4,
 "nbformat_minor": 5
}
