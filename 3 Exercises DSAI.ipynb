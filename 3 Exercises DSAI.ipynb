{
 "cells": [
  {
   "cell_type": "markdown",
   "id": "d868e42b-4343-4055-a78a-370f25d4c0d0",
   "metadata": {},
   "source": [
    "# 3. Übungsblatt DSAI"
   ]
  },
  {
   "cell_type": "markdown",
   "id": "625bf673-a008-4e2b-8bf1-18f6efe66d7f",
   "metadata": {},
   "source": [
    "## 1. Rename the educ column education."
   ]
  },
  {
   "cell_type": "code",
   "execution_count": 3,
   "id": "601c294c-e39b-48fe-a6b3-6e6a551ce804",
   "metadata": {},
   "outputs": [],
   "source": [
    "import pandas as pd\n",
    "\n",
    "dt_votes = pd.read_csv(\"datasets/anes96.csv\")\n"
   ]
  },
  {
   "cell_type": "code",
   "execution_count": null,
   "id": "506b05e5-88a2-46d8-a476-db59ca438c80",
   "metadata": {},
   "outputs": [],
   "source": []
  },
  {
   "cell_type": "code",
   "execution_count": null,
   "id": "43310a44-472b-492d-89d6-bef5e6ec33dc",
   "metadata": {},
   "outputs": [],
   "source": []
  }
 ],
 "metadata": {
  "kernelspec": {
   "display_name": "Python 3 (ipykernel)",
   "language": "python",
   "name": "python3"
  },
  "language_info": {
   "codemirror_mode": {
    "name": "ipython",
    "version": 3
   },
   "file_extension": ".py",
   "mimetype": "text/x-python",
   "name": "python",
   "nbconvert_exporter": "python",
   "pygments_lexer": "ipython3",
   "version": "3.10.12"
  }
 },
 "nbformat": 4,
 "nbformat_minor": 5
}
